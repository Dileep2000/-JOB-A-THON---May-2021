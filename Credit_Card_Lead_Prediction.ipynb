{
  "nbformat": 4,
  "nbformat_minor": 0,
  "metadata": {
    "colab": {
      "name": "Credit Card Lead Prediction.ipynb",
      "provenance": [],
      "collapsed_sections": []
    },
    "kernelspec": {
      "display_name": "Python 3",
      "name": "python3"
    },
    "language_info": {
      "name": "python"
    }
  },
  "cells": [
    {
      "cell_type": "markdown",
      "metadata": {
        "id": "oi86QObJqfL5"
      },
      "source": [
        "**Credit Card Lead Prediction**  \n",
        "\n",
        "Happy Customer Bank is a mid-sized private bank that deals in all kinds of banking products, like Savings accounts, Current accounts, investment products, credit products, among other offerings.  \n",
        "\n",
        "\n",
        "The bank also cross-sells products to its existing customers and to do so they use different kinds of communication like tele-calling, e-mails, recommendations on net banking, mobile banking, etc.   \n",
        "\n",
        "\n",
        "In this case, the Happy Customer Bank wants to cross sell its credit cards to its existing customers. The bank has identified a set of customers that are eligible for taking these credit cards.  \n",
        "\n",
        "**Objective**  \n",
        "**Now, the bank is looking for your help in identifying customers that could show higher intent towards a recommended credit card.**  "
      ]
    },
    {
      "cell_type": "markdown",
      "metadata": {
        "id": "B8RNuc4rqfL8"
      },
      "source": [
        "**Importing all the required libraries**"
      ]
    },
    {
      "cell_type": "code",
      "metadata": {
        "id": "iu61aBgEqfL9"
      },
      "source": [
        "import pandas as pd\n",
        "import numpy as np\n",
        "import matplotlib.pyplot as plt\n",
        "import seaborn as sns\n",
        "import plotly.express as px\n",
        "from scipy.stats import chi2_contingency,f_oneway\n",
        "from scipy import stats\n",
        "from pandas_profiling import ProfileReport\n",
        "import warnings\n",
        "warnings.filterwarnings('ignore')"
      ],
      "execution_count": null,
      "outputs": []
    },
    {
      "cell_type": "markdown",
      "metadata": {
        "id": "DVB0bNJaqfL-"
      },
      "source": [
        "**Loading the data for EDA(Exploratory Data Analysis)**"
      ]
    },
    {
      "cell_type": "code",
      "metadata": {
        "colab": {
          "base_uri": "https://localhost:8080/",
          "height": 206
        },
        "id": "5cMeZIeEqfL_",
        "outputId": "c817bd68-573d-4720-9d3a-5fdceb1efea1"
      },
      "source": [
        "bank_data=pd.read_csv(\"train_s3TEQDk.csv\")\n",
        "bank_data.head()"
      ],
      "execution_count": null,
      "outputs": [
        {
          "output_type": "execute_result",
          "data": {
            "text/html": [
              "<div>\n",
              "<style scoped>\n",
              "    .dataframe tbody tr th:only-of-type {\n",
              "        vertical-align: middle;\n",
              "    }\n",
              "\n",
              "    .dataframe tbody tr th {\n",
              "        vertical-align: top;\n",
              "    }\n",
              "\n",
              "    .dataframe thead th {\n",
              "        text-align: right;\n",
              "    }\n",
              "</style>\n",
              "<table border=\"1\" class=\"dataframe\">\n",
              "  <thead>\n",
              "    <tr style=\"text-align: right;\">\n",
              "      <th></th>\n",
              "      <th>ID</th>\n",
              "      <th>Gender</th>\n",
              "      <th>Age</th>\n",
              "      <th>Region_Code</th>\n",
              "      <th>Occupation</th>\n",
              "      <th>Channel_Code</th>\n",
              "      <th>Vintage</th>\n",
              "      <th>Credit_Product</th>\n",
              "      <th>Avg_Account_Balance</th>\n",
              "      <th>Is_Active</th>\n",
              "      <th>Is_Lead</th>\n",
              "    </tr>\n",
              "  </thead>\n",
              "  <tbody>\n",
              "    <tr>\n",
              "      <th>0</th>\n",
              "      <td>NNVBBKZB</td>\n",
              "      <td>Female</td>\n",
              "      <td>73</td>\n",
              "      <td>RG268</td>\n",
              "      <td>Other</td>\n",
              "      <td>X3</td>\n",
              "      <td>43</td>\n",
              "      <td>No</td>\n",
              "      <td>1045696</td>\n",
              "      <td>No</td>\n",
              "      <td>0</td>\n",
              "    </tr>\n",
              "    <tr>\n",
              "      <th>1</th>\n",
              "      <td>IDD62UNG</td>\n",
              "      <td>Female</td>\n",
              "      <td>30</td>\n",
              "      <td>RG277</td>\n",
              "      <td>Salaried</td>\n",
              "      <td>X1</td>\n",
              "      <td>32</td>\n",
              "      <td>No</td>\n",
              "      <td>581988</td>\n",
              "      <td>No</td>\n",
              "      <td>0</td>\n",
              "    </tr>\n",
              "    <tr>\n",
              "      <th>2</th>\n",
              "      <td>HD3DSEMC</td>\n",
              "      <td>Female</td>\n",
              "      <td>56</td>\n",
              "      <td>RG268</td>\n",
              "      <td>Self_Employed</td>\n",
              "      <td>X3</td>\n",
              "      <td>26</td>\n",
              "      <td>No</td>\n",
              "      <td>1484315</td>\n",
              "      <td>Yes</td>\n",
              "      <td>0</td>\n",
              "    </tr>\n",
              "    <tr>\n",
              "      <th>3</th>\n",
              "      <td>BF3NC7KV</td>\n",
              "      <td>Male</td>\n",
              "      <td>34</td>\n",
              "      <td>RG270</td>\n",
              "      <td>Salaried</td>\n",
              "      <td>X1</td>\n",
              "      <td>19</td>\n",
              "      <td>No</td>\n",
              "      <td>470454</td>\n",
              "      <td>No</td>\n",
              "      <td>0</td>\n",
              "    </tr>\n",
              "    <tr>\n",
              "      <th>4</th>\n",
              "      <td>TEASRWXV</td>\n",
              "      <td>Female</td>\n",
              "      <td>30</td>\n",
              "      <td>RG282</td>\n",
              "      <td>Salaried</td>\n",
              "      <td>X1</td>\n",
              "      <td>33</td>\n",
              "      <td>No</td>\n",
              "      <td>886787</td>\n",
              "      <td>No</td>\n",
              "      <td>0</td>\n",
              "    </tr>\n",
              "  </tbody>\n",
              "</table>\n",
              "</div>"
            ],
            "text/plain": [
              "         ID  Gender  Age  ... Avg_Account_Balance Is_Active Is_Lead\n",
              "0  NNVBBKZB  Female   73  ...             1045696        No       0\n",
              "1  IDD62UNG  Female   30  ...              581988        No       0\n",
              "2  HD3DSEMC  Female   56  ...             1484315       Yes       0\n",
              "3  BF3NC7KV    Male   34  ...              470454        No       0\n",
              "4  TEASRWXV  Female   30  ...              886787        No       0\n",
              "\n",
              "[5 rows x 11 columns]"
            ]
          },
          "metadata": {
            "tags": []
          },
          "execution_count": 2
        }
      ]
    },
    {
      "cell_type": "code",
      "metadata": {
        "colab": {
          "base_uri": "https://localhost:8080/",
          "height": 206
        },
        "id": "swdTCo36qfMA",
        "outputId": "7397e104-6e42-434c-a577-7085f8b790fd"
      },
      "source": [
        "bank_data.tail()"
      ],
      "execution_count": null,
      "outputs": [
        {
          "output_type": "execute_result",
          "data": {
            "text/html": [
              "<div>\n",
              "<style scoped>\n",
              "    .dataframe tbody tr th:only-of-type {\n",
              "        vertical-align: middle;\n",
              "    }\n",
              "\n",
              "    .dataframe tbody tr th {\n",
              "        vertical-align: top;\n",
              "    }\n",
              "\n",
              "    .dataframe thead th {\n",
              "        text-align: right;\n",
              "    }\n",
              "</style>\n",
              "<table border=\"1\" class=\"dataframe\">\n",
              "  <thead>\n",
              "    <tr style=\"text-align: right;\">\n",
              "      <th></th>\n",
              "      <th>ID</th>\n",
              "      <th>Gender</th>\n",
              "      <th>Age</th>\n",
              "      <th>Region_Code</th>\n",
              "      <th>Occupation</th>\n",
              "      <th>Channel_Code</th>\n",
              "      <th>Vintage</th>\n",
              "      <th>Credit_Product</th>\n",
              "      <th>Avg_Account_Balance</th>\n",
              "      <th>Is_Active</th>\n",
              "      <th>Is_Lead</th>\n",
              "    </tr>\n",
              "  </thead>\n",
              "  <tbody>\n",
              "    <tr>\n",
              "      <th>245720</th>\n",
              "      <td>BPAWWXZN</td>\n",
              "      <td>Male</td>\n",
              "      <td>51</td>\n",
              "      <td>RG284</td>\n",
              "      <td>Self_Employed</td>\n",
              "      <td>X3</td>\n",
              "      <td>109</td>\n",
              "      <td>NaN</td>\n",
              "      <td>1925586</td>\n",
              "      <td>No</td>\n",
              "      <td>0</td>\n",
              "    </tr>\n",
              "    <tr>\n",
              "      <th>245721</th>\n",
              "      <td>HFNB7JY8</td>\n",
              "      <td>Male</td>\n",
              "      <td>27</td>\n",
              "      <td>RG268</td>\n",
              "      <td>Salaried</td>\n",
              "      <td>X1</td>\n",
              "      <td>15</td>\n",
              "      <td>No</td>\n",
              "      <td>862952</td>\n",
              "      <td>Yes</td>\n",
              "      <td>0</td>\n",
              "    </tr>\n",
              "    <tr>\n",
              "      <th>245722</th>\n",
              "      <td>GEHAUCWT</td>\n",
              "      <td>Female</td>\n",
              "      <td>26</td>\n",
              "      <td>RG281</td>\n",
              "      <td>Salaried</td>\n",
              "      <td>X1</td>\n",
              "      <td>13</td>\n",
              "      <td>No</td>\n",
              "      <td>670659</td>\n",
              "      <td>No</td>\n",
              "      <td>0</td>\n",
              "    </tr>\n",
              "    <tr>\n",
              "      <th>245723</th>\n",
              "      <td>GE7V8SAH</td>\n",
              "      <td>Female</td>\n",
              "      <td>28</td>\n",
              "      <td>RG273</td>\n",
              "      <td>Salaried</td>\n",
              "      <td>X1</td>\n",
              "      <td>31</td>\n",
              "      <td>No</td>\n",
              "      <td>407504</td>\n",
              "      <td>No</td>\n",
              "      <td>0</td>\n",
              "    </tr>\n",
              "    <tr>\n",
              "      <th>245724</th>\n",
              "      <td>BOCZSWLJ</td>\n",
              "      <td>Male</td>\n",
              "      <td>29</td>\n",
              "      <td>RG269</td>\n",
              "      <td>Salaried</td>\n",
              "      <td>X1</td>\n",
              "      <td>21</td>\n",
              "      <td>No</td>\n",
              "      <td>1129276</td>\n",
              "      <td>No</td>\n",
              "      <td>0</td>\n",
              "    </tr>\n",
              "  </tbody>\n",
              "</table>\n",
              "</div>"
            ],
            "text/plain": [
              "              ID  Gender  Age  ... Avg_Account_Balance Is_Active Is_Lead\n",
              "245720  BPAWWXZN    Male   51  ...             1925586        No       0\n",
              "245721  HFNB7JY8    Male   27  ...              862952       Yes       0\n",
              "245722  GEHAUCWT  Female   26  ...              670659        No       0\n",
              "245723  GE7V8SAH  Female   28  ...              407504        No       0\n",
              "245724  BOCZSWLJ    Male   29  ...             1129276        No       0\n",
              "\n",
              "[5 rows x 11 columns]"
            ]
          },
          "metadata": {
            "tags": []
          },
          "execution_count": 3
        }
      ]
    },
    {
      "cell_type": "code",
      "metadata": {
        "colab": {
          "base_uri": "https://localhost:8080/"
        },
        "id": "-Tm9dtg9qfMB",
        "outputId": "14739dc4-e550-4917-decb-af9b4eb9537a"
      },
      "source": [
        "print('Number of features are',bank_data.shape[1],sep=\" \")\n",
        "print('Number of Instances are',bank_data.shape[0],sep=\" \")"
      ],
      "execution_count": null,
      "outputs": [
        {
          "output_type": "stream",
          "text": [
            "Number of features are 11\n",
            "Number of Instances are 245725\n"
          ],
          "name": "stdout"
        }
      ]
    },
    {
      "cell_type": "markdown",
      "metadata": {
        "id": "PAbCNGE3qfMC"
      },
      "source": [
        "Lets look into each of the feature in detailed to gain information"
      ]
    },
    {
      "cell_type": "code",
      "metadata": {
        "colab": {
          "base_uri": "https://localhost:8080/"
        },
        "id": "B8PXhhBoqfMC",
        "outputId": "64fbe871-9bd8-40af-bd88-224b0e7dcf43"
      },
      "source": [
        "cols=list(bank_data.columns)\n",
        "print(cols)"
      ],
      "execution_count": null,
      "outputs": [
        {
          "output_type": "stream",
          "text": [
            "['ID', 'Gender', 'Age', 'Region_Code', 'Occupation', 'Channel_Code', 'Vintage', 'Credit_Product', 'Avg_Account_Balance', 'Is_Active', 'Is_Lead']\n"
          ],
          "name": "stdout"
        }
      ]
    },
    {
      "cell_type": "markdown",
      "metadata": {
        "id": "D9NBE47cqfME"
      },
      "source": [
        "**ID :** It is a unique Identification code that identifies each individual. It has no significance in prediction. It can be used as an index for data Exploration."
      ]
    },
    {
      "cell_type": "code",
      "metadata": {
        "colab": {
          "base_uri": "https://localhost:8080/"
        },
        "id": "bg7z8p3TqfME",
        "outputId": "3fd7b565-2bc8-4564-e5c4-96ae01a06074"
      },
      "source": [
        "len(bank_data['ID'].unique())"
      ],
      "execution_count": null,
      "outputs": [
        {
          "output_type": "execute_result",
          "data": {
            "text/plain": [
              "245725"
            ]
          },
          "metadata": {
            "tags": []
          },
          "execution_count": 6
        }
      ]
    },
    {
      "cell_type": "markdown",
      "metadata": {
        "id": "w3LPMQ-YqfMF"
      },
      "source": [
        "ID feature has 245725 Unique values, which is equal to number of instances in the data. We can transform this feature into index of the data."
      ]
    },
    {
      "cell_type": "code",
      "metadata": {
        "colab": {
          "base_uri": "https://localhost:8080/",
          "height": 238
        },
        "id": "264o9xqsqfMG",
        "scrolled": true,
        "outputId": "a63954f1-5890-4363-f0d9-38454ad2a9ad"
      },
      "source": [
        "bank_data.set_index('ID',inplace=True)\n",
        "bank_data.head()"
      ],
      "execution_count": null,
      "outputs": [
        {
          "output_type": "execute_result",
          "data": {
            "text/html": [
              "<div>\n",
              "<style scoped>\n",
              "    .dataframe tbody tr th:only-of-type {\n",
              "        vertical-align: middle;\n",
              "    }\n",
              "\n",
              "    .dataframe tbody tr th {\n",
              "        vertical-align: top;\n",
              "    }\n",
              "\n",
              "    .dataframe thead th {\n",
              "        text-align: right;\n",
              "    }\n",
              "</style>\n",
              "<table border=\"1\" class=\"dataframe\">\n",
              "  <thead>\n",
              "    <tr style=\"text-align: right;\">\n",
              "      <th></th>\n",
              "      <th>Gender</th>\n",
              "      <th>Age</th>\n",
              "      <th>Region_Code</th>\n",
              "      <th>Occupation</th>\n",
              "      <th>Channel_Code</th>\n",
              "      <th>Vintage</th>\n",
              "      <th>Credit_Product</th>\n",
              "      <th>Avg_Account_Balance</th>\n",
              "      <th>Is_Active</th>\n",
              "      <th>Is_Lead</th>\n",
              "    </tr>\n",
              "    <tr>\n",
              "      <th>ID</th>\n",
              "      <th></th>\n",
              "      <th></th>\n",
              "      <th></th>\n",
              "      <th></th>\n",
              "      <th></th>\n",
              "      <th></th>\n",
              "      <th></th>\n",
              "      <th></th>\n",
              "      <th></th>\n",
              "      <th></th>\n",
              "    </tr>\n",
              "  </thead>\n",
              "  <tbody>\n",
              "    <tr>\n",
              "      <th>NNVBBKZB</th>\n",
              "      <td>Female</td>\n",
              "      <td>73</td>\n",
              "      <td>RG268</td>\n",
              "      <td>Other</td>\n",
              "      <td>X3</td>\n",
              "      <td>43</td>\n",
              "      <td>No</td>\n",
              "      <td>1045696</td>\n",
              "      <td>No</td>\n",
              "      <td>0</td>\n",
              "    </tr>\n",
              "    <tr>\n",
              "      <th>IDD62UNG</th>\n",
              "      <td>Female</td>\n",
              "      <td>30</td>\n",
              "      <td>RG277</td>\n",
              "      <td>Salaried</td>\n",
              "      <td>X1</td>\n",
              "      <td>32</td>\n",
              "      <td>No</td>\n",
              "      <td>581988</td>\n",
              "      <td>No</td>\n",
              "      <td>0</td>\n",
              "    </tr>\n",
              "    <tr>\n",
              "      <th>HD3DSEMC</th>\n",
              "      <td>Female</td>\n",
              "      <td>56</td>\n",
              "      <td>RG268</td>\n",
              "      <td>Self_Employed</td>\n",
              "      <td>X3</td>\n",
              "      <td>26</td>\n",
              "      <td>No</td>\n",
              "      <td>1484315</td>\n",
              "      <td>Yes</td>\n",
              "      <td>0</td>\n",
              "    </tr>\n",
              "    <tr>\n",
              "      <th>BF3NC7KV</th>\n",
              "      <td>Male</td>\n",
              "      <td>34</td>\n",
              "      <td>RG270</td>\n",
              "      <td>Salaried</td>\n",
              "      <td>X1</td>\n",
              "      <td>19</td>\n",
              "      <td>No</td>\n",
              "      <td>470454</td>\n",
              "      <td>No</td>\n",
              "      <td>0</td>\n",
              "    </tr>\n",
              "    <tr>\n",
              "      <th>TEASRWXV</th>\n",
              "      <td>Female</td>\n",
              "      <td>30</td>\n",
              "      <td>RG282</td>\n",
              "      <td>Salaried</td>\n",
              "      <td>X1</td>\n",
              "      <td>33</td>\n",
              "      <td>No</td>\n",
              "      <td>886787</td>\n",
              "      <td>No</td>\n",
              "      <td>0</td>\n",
              "    </tr>\n",
              "  </tbody>\n",
              "</table>\n",
              "</div>"
            ],
            "text/plain": [
              "          Gender  Age Region_Code  ... Avg_Account_Balance Is_Active  Is_Lead\n",
              "ID                                 ...                                       \n",
              "NNVBBKZB  Female   73       RG268  ...             1045696        No        0\n",
              "IDD62UNG  Female   30       RG277  ...              581988        No        0\n",
              "HD3DSEMC  Female   56       RG268  ...             1484315       Yes        0\n",
              "BF3NC7KV    Male   34       RG270  ...              470454        No        0\n",
              "TEASRWXV  Female   30       RG282  ...              886787        No        0\n",
              "\n",
              "[5 rows x 10 columns]"
            ]
          },
          "metadata": {
            "tags": []
          },
          "execution_count": 7
        }
      ]
    },
    {
      "cell_type": "markdown",
      "metadata": {
        "id": "-5o4H8Z4qfMG"
      },
      "source": [
        "As seen above ID is converted into Index and can be used to identify each instance individually."
      ]
    },
    {
      "cell_type": "markdown",
      "metadata": {
        "id": "IcB8sHpRqfMG"
      },
      "source": [
        "**Gender :** It is a feature that identifies each individual as Male or Feale according to there appeearence."
      ]
    },
    {
      "cell_type": "code",
      "metadata": {
        "colab": {
          "base_uri": "https://localhost:8080/"
        },
        "id": "PXvp3N2jqfMG",
        "outputId": "8ae2bac9-64cb-4bbc-c9a9-08899c1ad6ca"
      },
      "source": [
        "bank_data['Gender'].unique()"
      ],
      "execution_count": null,
      "outputs": [
        {
          "output_type": "execute_result",
          "data": {
            "text/plain": [
              "array(['Female', 'Male'], dtype=object)"
            ]
          },
          "metadata": {
            "tags": []
          },
          "execution_count": 8
        }
      ]
    },
    {
      "cell_type": "markdown",
      "metadata": {
        "id": "SPtHQSv1qfMG"
      },
      "source": [
        "There are two unique categories in Gender Feature,**Female and Male.**  So, **Gender** is considered as categorical feature with 2 categories."
      ]
    },
    {
      "cell_type": "markdown",
      "metadata": {
        "id": "kjmjkbGSqfMH"
      },
      "source": [
        "**Age :** It describes the age of each individual. From this feature we can say the birth year of individual. Further we can categorize it into Children(Age 0-14 years), Youth(Age 15-24 years), Adults(Age 25-64 Years) and seniors(Age 65 years and over)."
      ]
    },
    {
      "cell_type": "code",
      "metadata": {
        "colab": {
          "base_uri": "https://localhost:8080/"
        },
        "id": "HzNTUiNoqfMH",
        "outputId": "c8894437-bd40-4f67-cd5c-50e42c593765"
      },
      "source": [
        "bank_data['Age'].dtype"
      ],
      "execution_count": null,
      "outputs": [
        {
          "output_type": "execute_result",
          "data": {
            "text/plain": [
              "dtype('int64')"
            ]
          },
          "metadata": {
            "tags": []
          },
          "execution_count": 9
        }
      ]
    },
    {
      "cell_type": "markdown",
      "metadata": {
        "id": "WBsd_cRHqfMH"
      },
      "source": [
        "Age is a continous Feature as it can be anything fron 0-150. It can be converted to categorical feature if it is categorized into Children(Age 0-14 years), Youth(Age 15-24 years), Adults(Age 25-64 Years) and seniors(Age 65 years and over)."
      ]
    },
    {
      "cell_type": "markdown",
      "metadata": {
        "id": "78C42Sk7qfMI"
      },
      "source": [
        "**Region_Code :** It is a code that identifes from which region the customer is."
      ]
    },
    {
      "cell_type": "code",
      "metadata": {
        "colab": {
          "base_uri": "https://localhost:8080/"
        },
        "id": "j15C7fyfqfMI",
        "outputId": "1bea43f1-b810-4f68-c117-b6ed8cc00777"
      },
      "source": [
        "print(list(bank_data['Region_Code'].unique()))\n",
        "print()\n",
        "print(len(bank_data['Region_Code'].unique()))"
      ],
      "execution_count": null,
      "outputs": [
        {
          "output_type": "stream",
          "text": [
            "['RG268', 'RG277', 'RG270', 'RG282', 'RG261', 'RG265', 'RG283', 'RG254', 'RG269', 'RG257', 'RG279', 'RG280', 'RG252', 'RG284', 'RG259', 'RG281', 'RG258', 'RG266', 'RG260', 'RG274', 'RG256', 'RG275', 'RG273', 'RG267', 'RG272', 'RG251', 'RG262', 'RG264', 'RG278', 'RG276', 'RG263', 'RG250', 'RG255', 'RG253', 'RG271']\n",
            "\n",
            "35\n"
          ],
          "name": "stdout"
        }
      ]
    },
    {
      "cell_type": "markdown",
      "metadata": {
        "id": "wymSktQnqfMI"
      },
      "source": [
        "There are 35 unique Region_Codes in the data. It is a Categorical features as each of them can be categorized based of the reqion they live in."
      ]
    },
    {
      "cell_type": "markdown",
      "metadata": {
        "id": "XsTkDXapqfMI"
      },
      "source": [
        "**Occupation :** It tells that wheter an individual has a job, or have own bussiness oan other things hhow do they get money for living."
      ]
    },
    {
      "cell_type": "code",
      "metadata": {
        "colab": {
          "base_uri": "https://localhost:8080/"
        },
        "id": "x_s6o7AzqfMJ",
        "outputId": "60c5e5fc-c371-4c35-f8d2-9893edf1b0b8"
      },
      "source": [
        "bank_data['Occupation'].unique()"
      ],
      "execution_count": null,
      "outputs": [
        {
          "output_type": "execute_result",
          "data": {
            "text/plain": [
              "array(['Other', 'Salaried', 'Self_Employed', 'Entrepreneur'], dtype=object)"
            ]
          },
          "metadata": {
            "tags": []
          },
          "execution_count": 11
        }
      ]
    },
    {
      "cell_type": "markdown",
      "metadata": {
        "id": "i_MDgH73qfMJ"
      },
      "source": [
        "Occupation of an idividual can be of many things, but they are categorized into 4 groups. Salaried individual who work for certain salary. Self-Employed individuals are the people who earn money on their own by doing cab driver,farmer,etc. they donot work under a company. Entrepreneurs are thr one who setups a business taking on finalcial risks in the hope of profit. others include people like non-employed, students, how wifes, etc..."
      ]
    },
    {
      "cell_type": "markdown",
      "metadata": {
        "id": "kLvlksN7qfMJ"
      },
      "source": [
        "**Channel_Code :** It refers to the channek that site visits come through to get to your site.(How visits are acquired). There are different Acquaistion channels such as organic(refers to visits that come from someone going to your site from organic search results), Direct(When someone gets to your site by typing site address), Referral(When some other person recomments the site), Paidsearch(when someone gets to your site by clicking in oaid search), Email(When someone gets to site from link in an email), Social(posted on socail media), Display(Ads), other(someone gets to site via a campaign that include certain tracking features)."
      ]
    },
    {
      "cell_type": "code",
      "metadata": {
        "colab": {
          "base_uri": "https://localhost:8080/"
        },
        "id": "tjdOR5VyqfMJ",
        "outputId": "0273dfb9-6c87-4105-84fb-14e601ba3cbe"
      },
      "source": [
        "bank_data['Channel_Code'].unique()"
      ],
      "execution_count": null,
      "outputs": [
        {
          "output_type": "execute_result",
          "data": {
            "text/plain": [
              "array(['X3', 'X1', 'X2', 'X4'], dtype=object)"
            ]
          },
          "metadata": {
            "tags": []
          },
          "execution_count": 12
        }
      ]
    },
    {
      "cell_type": "markdown",
      "metadata": {
        "id": "euuRXXE2qfMK"
      },
      "source": [
        "There are 4 channels through which people came to the bank."
      ]
    },
    {
      "cell_type": "markdown",
      "metadata": {
        "id": "ifMuwYcjqfMK"
      },
      "source": [
        "**Vintage :** It is the age of an item as it relates to the year it was created. It is number of months it has been sicnce an individuak created their bank account."
      ]
    },
    {
      "cell_type": "code",
      "metadata": {
        "colab": {
          "base_uri": "https://localhost:8080/"
        },
        "id": "pFX78j-RqfMK",
        "outputId": "30c5e364-0f5b-4ced-d2cf-99fb6b77fe7a"
      },
      "source": [
        "bank_data['Vintage'].dtype"
      ],
      "execution_count": null,
      "outputs": [
        {
          "output_type": "execute_result",
          "data": {
            "text/plain": [
              "dtype('int64')"
            ]
          },
          "metadata": {
            "tags": []
          },
          "execution_count": 13
        }
      ]
    },
    {
      "cell_type": "markdown",
      "metadata": {
        "id": "-ycSUra1qfML"
      },
      "source": [
        "As it is a count of number of months it has been since account is created. It is a continuous Feature."
      ]
    },
    {
      "cell_type": "markdown",
      "metadata": {
        "id": "nvV4rjVsqfML"
      },
      "source": [
        "**Credit_Product :** It tells that If the Customer has any active credit product (Home loan, Personal loan, Credit Card etc.)"
      ]
    },
    {
      "cell_type": "code",
      "metadata": {
        "colab": {
          "base_uri": "https://localhost:8080/"
        },
        "id": "FUgQrxWBqfML",
        "outputId": "2b94aa22-ff80-4f91-e06c-1b5e3935c1fb"
      },
      "source": [
        "bank_data['Credit_Product'].unique()"
      ],
      "execution_count": null,
      "outputs": [
        {
          "output_type": "execute_result",
          "data": {
            "text/plain": [
              "array(['No', nan, 'Yes'], dtype=object)"
            ]
          },
          "metadata": {
            "tags": []
          },
          "execution_count": 14
        }
      ]
    },
    {
      "cell_type": "markdown",
      "metadata": {
        "id": "Zaa4kgPRqfML"
      },
      "source": [
        "It has three categories Yes, No, nan(represents Missing values). Each individual is categorised into two(Yes/No). So, it is categorical Feature."
      ]
    },
    {
      "cell_type": "markdown",
      "metadata": {
        "id": "5kzKJnjAqfMM"
      },
      "source": [
        "**Avg_Account_Balance :** It tells the Average Account Balance for the Customer in last 12 Months."
      ]
    },
    {
      "cell_type": "code",
      "metadata": {
        "colab": {
          "base_uri": "https://localhost:8080/"
        },
        "id": "0q3QwaBRqfMM",
        "outputId": "9bc8c723-59b2-4b90-c799-017b6b35e2e0"
      },
      "source": [
        "bank_data['Avg_Account_Balance'].dtype"
      ],
      "execution_count": null,
      "outputs": [
        {
          "output_type": "execute_result",
          "data": {
            "text/plain": [
              "dtype('int64')"
            ]
          },
          "metadata": {
            "tags": []
          },
          "execution_count": 15
        }
      ]
    },
    {
      "cell_type": "markdown",
      "metadata": {
        "id": "wBpKhqpOqfMM"
      },
      "source": [
        "At it is an average of amount it is a continuous Feature."
      ]
    },
    {
      "cell_type": "markdown",
      "metadata": {
        "id": "NiNzc-nMqfMM"
      },
      "source": [
        "**Is_Active :** It tells that \"If the Customer is Active in last 3 Months\"."
      ]
    },
    {
      "cell_type": "code",
      "metadata": {
        "colab": {
          "base_uri": "https://localhost:8080/"
        },
        "id": "SGhbEbv6qfMM",
        "outputId": "5701f991-da23-4694-f7c6-8724b4181c46"
      },
      "source": [
        "bank_data['Is_Active'].unique()"
      ],
      "execution_count": null,
      "outputs": [
        {
          "output_type": "execute_result",
          "data": {
            "text/plain": [
              "array(['No', 'Yes'], dtype=object)"
            ]
          },
          "metadata": {
            "tags": []
          },
          "execution_count": 16
        }
      ]
    },
    {
      "cell_type": "markdown",
      "metadata": {
        "id": "5IvkcSPhqfMN"
      },
      "source": [
        "It has two categories Yes, No. So it is a categorical Feature."
      ]
    },
    {
      "cell_type": "markdown",
      "metadata": {
        "id": "N1n5L-BlqfMN"
      },
      "source": [
        "**Is_Lead :** It tells 'If the Customer is interested for the Credit Card or not'\n",
        "- 0 : Customer is not interested\n",
        "- 1 : Customer is interested"
      ]
    },
    {
      "cell_type": "code",
      "metadata": {
        "colab": {
          "base_uri": "https://localhost:8080/"
        },
        "id": "cikbhdBSqfMN",
        "outputId": "705f61ba-0138-4737-f06d-f755a2e500d7"
      },
      "source": [
        "bank_data['Is_Lead'].unique()"
      ],
      "execution_count": null,
      "outputs": [
        {
          "output_type": "execute_result",
          "data": {
            "text/plain": [
              "array([0, 1])"
            ]
          },
          "metadata": {
            "tags": []
          },
          "execution_count": 17
        }
      ]
    },
    {
      "cell_type": "markdown",
      "metadata": {
        "id": "EA8NILzlqfMN"
      },
      "source": [
        "It conatins o's and 1's. **0 : Customer is not interested. 1 : Customer is interested**\n"
      ]
    },
    {
      "cell_type": "markdown",
      "metadata": {
        "id": "CmDEVFknqfMO"
      },
      "source": [
        "Lets divide the features into Categorical and Continuous based on the data and feature discription. We need not condsider ID as it is coverted to index that identifies each individual and Is_Lead as it is  the output that should be predicted based on the other features."
      ]
    },
    {
      "cell_type": "code",
      "metadata": {
        "id": "gdmKnblsqfMO"
      },
      "source": [
        "act_categ_cols=['Gender', 'Region_Code', 'Occupation', 'Channel_Code', 'Credit_Product', 'Is_Active', 'Is_Lead']\n",
        "act_conti_cols=['Age', 'Vintage', 'Avg_Account_Balance']"
      ],
      "execution_count": null,
      "outputs": []
    },
    {
      "cell_type": "markdown",
      "metadata": {
        "id": "Vy3ICPcGqfMO"
      },
      "source": [
        "Let's se the data types of the Features. And compare it to categorcal and continuous Features. Continuous Features will have 'int64' or 'float64' as their dtype and categorical features have objects as their dtype. Lets sepearate them based on actual data given. Some categorical Features may have numerical as categories but pandas recogize them as numerical. So we have conver columns like this to actual form."
      ]
    },
    {
      "cell_type": "code",
      "metadata": {
        "colab": {
          "base_uri": "https://localhost:8080/"
        },
        "id": "sg59J3FkqfMO",
        "outputId": "fb892942-c13b-48db-8930-8ac856477a2d"
      },
      "source": [
        "bank_data.dtypes"
      ],
      "execution_count": null,
      "outputs": [
        {
          "output_type": "execute_result",
          "data": {
            "text/plain": [
              "Gender                 object\n",
              "Age                     int64\n",
              "Region_Code            object\n",
              "Occupation             object\n",
              "Channel_Code           object\n",
              "Vintage                 int64\n",
              "Credit_Product         object\n",
              "Avg_Account_Balance     int64\n",
              "Is_Active              object\n",
              "Is_Lead                 int64\n",
              "dtype: object"
            ]
          },
          "metadata": {
            "tags": []
          },
          "execution_count": 19
        }
      ]
    },
    {
      "cell_type": "code",
      "metadata": {
        "colab": {
          "base_uri": "https://localhost:8080/"
        },
        "id": "x8KCsK44qfMO",
        "outputId": "7eaf28b1-5f46-4dbf-c23c-622ea81fca74"
      },
      "source": [
        "categ_cols=[]\n",
        "conti_cols=[]\n",
        "for col in bank_data.columns:\n",
        "    if bank_data[col].dtype=='int64' or bank_data[col].dtype=='float64':\n",
        "        conti_cols.append(col)\n",
        "    elif bank_data[col].dtype=='object':\n",
        "        categ_cols.append(col)\n",
        "print(\"Categorial Features are :\",categ_cols,sep=' ')\n",
        "print()\n",
        "print(\"Continuous Features are :\",conti_cols,sep=' ')"
      ],
      "execution_count": null,
      "outputs": [
        {
          "output_type": "stream",
          "text": [
            "Categorial Features are : ['Gender', 'Region_Code', 'Occupation', 'Channel_Code', 'Credit_Product', 'Is_Active']\n",
            "\n",
            "Continuous Features are : ['Age', 'Vintage', 'Avg_Account_Balance', 'Is_Lead']\n"
          ],
          "name": "stdout"
        }
      ]
    },
    {
      "cell_type": "code",
      "metadata": {
        "colab": {
          "base_uri": "https://localhost:8080/"
        },
        "id": "x_XFrJ7VqfMP",
        "outputId": "2373fede-27e8-42db-b2a6-ba046708be04"
      },
      "source": [
        "conti_cols.remove('Is_Lead')\n",
        "print(\"Categorial Features are :\",categ_cols,sep=' ')\n",
        "print()\n",
        "print(\"Continuous Features are :\",conti_cols,sep=' ')"
      ],
      "execution_count": null,
      "outputs": [
        {
          "output_type": "stream",
          "text": [
            "Categorial Features are : ['Gender', 'Region_Code', 'Occupation', 'Channel_Code', 'Credit_Product', 'Is_Active']\n",
            "\n",
            "Continuous Features are : ['Age', 'Vintage', 'Avg_Account_Balance']\n"
          ],
          "name": "stdout"
        }
      ]
    },
    {
      "cell_type": "markdown",
      "metadata": {
        "id": "hB34DQ_XqfMP"
      },
      "source": [
        "As you can see Is_Lead is actually a categorical Frature but it contains 0's and 1's it is considered as continuous column.As it is the feature that we have to predict from the data we will not do the transormation from continuous to categorical Feature.  \n",
        "**All the features are converted to their respective data types as of the decription of the feature.**"
      ]
    },
    {
      "cell_type": "markdown",
      "metadata": {
        "id": "mVwU9IWQqfMQ"
      },
      "source": [
        "**Now lets do some Exploratory Data Analysis on the data**  \n",
        "\n",
        "**Descriptive stats and infoemation about Categorical and continuous columns**"
      ]
    },
    {
      "cell_type": "code",
      "metadata": {
        "colab": {
          "base_uri": "https://localhost:8080/"
        },
        "id": "2Z_qfrDiqfMQ",
        "outputId": "2b4ccde4-4441-4d64-8918-db326aef816d"
      },
      "source": [
        "bank_data.info()"
      ],
      "execution_count": null,
      "outputs": [
        {
          "output_type": "stream",
          "text": [
            "<class 'pandas.core.frame.DataFrame'>\n",
            "Index: 245725 entries, NNVBBKZB to BOCZSWLJ\n",
            "Data columns (total 10 columns):\n",
            " #   Column               Non-Null Count   Dtype \n",
            "---  ------               --------------   ----- \n",
            " 0   Gender               245725 non-null  object\n",
            " 1   Age                  245725 non-null  int64 \n",
            " 2   Region_Code          245725 non-null  object\n",
            " 3   Occupation           245725 non-null  object\n",
            " 4   Channel_Code         245725 non-null  object\n",
            " 5   Vintage              245725 non-null  int64 \n",
            " 6   Credit_Product       216400 non-null  object\n",
            " 7   Avg_Account_Balance  245725 non-null  int64 \n",
            " 8   Is_Active            245725 non-null  object\n",
            " 9   Is_Lead              245725 non-null  int64 \n",
            "dtypes: int64(4), object(6)\n",
            "memory usage: 20.6+ MB\n"
          ],
          "name": "stdout"
        }
      ]
    },
    {
      "cell_type": "code",
      "metadata": {
        "colab": {
          "base_uri": "https://localhost:8080/"
        },
        "id": "hwgUwTgtqfMQ",
        "outputId": "1c4156a1-df26-4ac8-b47e-2193b0120416"
      },
      "source": [
        "missing_count=[]\n",
        "for col in bank_data.columns:\n",
        "    missing_count.append(bank_data[col].isnull().sum())\n",
        "    print(' The feature',col,\"has\",bank_data[col].isnull().sum(),\"Null values\",sep=\" \")"
      ],
      "execution_count": null,
      "outputs": [
        {
          "output_type": "stream",
          "text": [
            " The feature Gender has 0 Null values\n",
            " The feature Age has 0 Null values\n",
            " The feature Region_Code has 0 Null values\n",
            " The feature Occupation has 0 Null values\n",
            " The feature Channel_Code has 0 Null values\n",
            " The feature Vintage has 0 Null values\n",
            " The feature Credit_Product has 29325 Null values\n",
            " The feature Avg_Account_Balance has 0 Null values\n",
            " The feature Is_Active has 0 Null values\n",
            " The feature Is_Lead has 0 Null values\n"
          ],
          "name": "stdout"
        }
      ]
    },
    {
      "cell_type": "code",
      "metadata": {
        "colab": {
          "base_uri": "https://localhost:8080/"
        },
        "id": "HCcvpifoqfMR",
        "outputId": "94d98673-bda8-48b4-86f7-9289f0c52cb0"
      },
      "source": [
        "missing_percentage=[]\n",
        "for col in bank_data.columns:\n",
        "    missing_percentage.append(bank_data[col].isnull().sum()*100/bank_data.shape[0])\n",
        "    print(' The feature',col,\"has\",bank_data[col].isnull().sum()*100/bank_data.shape[0],\"percrntage of Null values\",sep=\" \")"
      ],
      "execution_count": null,
      "outputs": [
        {
          "output_type": "stream",
          "text": [
            " The feature Gender has 0.0 percrntage of Null values\n",
            " The feature Age has 0.0 percrntage of Null values\n",
            " The feature Region_Code has 0.0 percrntage of Null values\n",
            " The feature Occupation has 0.0 percrntage of Null values\n",
            " The feature Channel_Code has 0.0 percrntage of Null values\n",
            " The feature Vintage has 0.0 percrntage of Null values\n",
            " The feature Credit_Product has 11.9340726421813 percrntage of Null values\n",
            " The feature Avg_Account_Balance has 0.0 percrntage of Null values\n",
            " The feature Is_Active has 0.0 percrntage of Null values\n",
            " The feature Is_Lead has 0.0 percrntage of Null values\n"
          ],
          "name": "stdout"
        }
      ]
    },
    {
      "cell_type": "code",
      "metadata": {
        "id": "qZIEKqtqqfMR",
        "colab": {
          "base_uri": "https://localhost:8080/",
          "height": 378
        },
        "outputId": "e1ad7deb-20d3-43da-bfac-5631aaa76c9e"
      },
      "source": [
        "plt.bar(bank_data.columns,missing_count)\n",
        "plt.xlabel(\"Columns\")\n",
        "plt.ylabel(\"Count of missing values\")\n",
        "plt.xticks(rotation=90)\n",
        "plt.annotate('Missing_values = 29325',xy=('Credit_Product',29325))\n",
        "plt.show()"
      ],
      "execution_count": null,
      "outputs": [
        {
          "output_type": "display_data",
          "data": {
            "image/png": "[encoded data removed]",
            "text/plain": [
              "<Figure size 432x288 with 1 Axes>"
            ]
          },
          "metadata": {
            "tags": [],
            "needs_background": "light"
          }
        }
      ]
    },
    {
      "cell_type": "code",
      "metadata": {
        "colab": {
          "base_uri": "https://localhost:8080/"
        },
        "id": "Bv8L3b7lqfMR",
        "outputId": "c6922b43-1aec-4b27-dbe7-2e12a28649bd"
      },
      "source": [
        "len(missing_percentage)"
      ],
      "execution_count": null,
      "outputs": [
        {
          "output_type": "execute_result",
          "data": {
            "text/plain": [
              "10"
            ]
          },
          "metadata": {
            "tags": []
          },
          "execution_count": 26
        }
      ]
    },
    {
      "cell_type": "code",
      "metadata": {
        "colab": {
          "base_uri": "https://localhost:8080/"
        },
        "id": "VNQbgRRiqfMS",
        "outputId": "b8f264d7-612f-4a28-82f4-d9b04cd15641"
      },
      "source": [
        "len(bank_data.columns)"
      ],
      "execution_count": null,
      "outputs": [
        {
          "output_type": "execute_result",
          "data": {
            "text/plain": [
              "10"
            ]
          },
          "metadata": {
            "tags": []
          },
          "execution_count": 27
        }
      ]
    },
    {
      "cell_type": "code",
      "metadata": {
        "id": "C_o-ep83qfMS",
        "colab": {
          "base_uri": "https://localhost:8080/",
          "height": 433
        },
        "outputId": "eeb5fcac-0f45-4a7e-e2f1-de7528d06153"
      },
      "source": [
        "plt.figure(figsize=(10,5))\n",
        "plt.bar(bank_data.columns,missing_percentage)\n",
        "plt.xlabel(\"Columns\")\n",
        "plt.ylabel(\"Percentage of missing values\")\n",
        "plt.xticks(rotation=90)\n",
        "plt.annotate('Missing_percentage = 12%',xy=('Credit_Product',11.9340726421813))\n",
        "plt.show()"
      ],
      "execution_count": null,
      "outputs": [
        {
          "output_type": "display_data",
          "data": {
            "image/png": "[encoded data removed]",
            "text/plain": [
              "<Figure size 720x360 with 1 Axes>"
            ]
          },
          "metadata": {
            "tags": [],
            "needs_background": "light"
          }
        }
      ]
    },
    {
      "cell_type": "markdown",
      "metadata": {
        "id": "eD6Yo71vqfMS"
      },
      "source": [
        "From the observations Credict_product is the only feature contaning null values. Out of 245725, 29325 are null values. 11.94(12 approx) percentage of the Credict_Product feature has missing values.As it is a less percent of missing values we can go with missing value treatment which is done later of the parts."
      ]
    },
    {
      "cell_type": "markdown",
      "metadata": {
        "id": "csL_tKdUqfMT"
      },
      "source": [
        "**Descriptive Stats**  \n",
        "\n",
        "**Continous Features**"
      ]
    },
    {
      "cell_type": "code",
      "metadata": {
        "colab": {
          "base_uri": "https://localhost:8080/",
          "height": 300
        },
        "id": "OnXFHt7XqfMT",
        "outputId": "4ad15b77-dc83-4c47-805c-970e67a0d3b2"
      },
      "source": [
        "bank_data[conti_cols].describe()"
      ],
      "execution_count": null,
      "outputs": [
        {
          "output_type": "execute_result",
          "data": {
            "text/html": [
              "<div>\n",
              "<style scoped>\n",
              "    .dataframe tbody tr th:only-of-type {\n",
              "        vertical-align: middle;\n",
              "    }\n",
              "\n",
              "    .dataframe tbody tr th {\n",
              "        vertical-align: top;\n",
              "    }\n",
              "\n",
              "    .dataframe thead th {\n",
              "        text-align: right;\n",
              "    }\n",
              "</style>\n",
              "<table border=\"1\" class=\"dataframe\">\n",
              "  <thead>\n",
              "    <tr style=\"text-align: right;\">\n",
              "      <th></th>\n",
              "      <th>Age</th>\n",
              "      <th>Vintage</th>\n",
              "      <th>Avg_Account_Balance</th>\n",
              "    </tr>\n",
              "  </thead>\n",
              "  <tbody>\n",
              "    <tr>\n",
              "      <th>count</th>\n",
              "      <td>245725.000000</td>\n",
              "      <td>245725.000000</td>\n",
              "      <td>2.457250e+05</td>\n",
              "    </tr>\n",
              "    <tr>\n",
              "      <th>mean</th>\n",
              "      <td>43.856307</td>\n",
              "      <td>46.959141</td>\n",
              "      <td>1.128403e+06</td>\n",
              "    </tr>\n",
              "    <tr>\n",
              "      <th>std</th>\n",
              "      <td>14.828672</td>\n",
              "      <td>32.353136</td>\n",
              "      <td>8.529364e+05</td>\n",
              "    </tr>\n",
              "    <tr>\n",
              "      <th>min</th>\n",
              "      <td>23.000000</td>\n",
              "      <td>7.000000</td>\n",
              "      <td>2.079000e+04</td>\n",
              "    </tr>\n",
              "    <tr>\n",
              "      <th>25%</th>\n",
              "      <td>30.000000</td>\n",
              "      <td>20.000000</td>\n",
              "      <td>6.043100e+05</td>\n",
              "    </tr>\n",
              "    <tr>\n",
              "      <th>50%</th>\n",
              "      <td>43.000000</td>\n",
              "      <td>32.000000</td>\n",
              "      <td>8.946010e+05</td>\n",
              "    </tr>\n",
              "    <tr>\n",
              "      <th>75%</th>\n",
              "      <td>54.000000</td>\n",
              "      <td>73.000000</td>\n",
              "      <td>1.366666e+06</td>\n",
              "    </tr>\n",
              "    <tr>\n",
              "      <th>max</th>\n",
              "      <td>85.000000</td>\n",
              "      <td>135.000000</td>\n",
              "      <td>1.035201e+07</td>\n",
              "    </tr>\n",
              "  </tbody>\n",
              "</table>\n",
              "</div>"
            ],
            "text/plain": [
              "                 Age        Vintage  Avg_Account_Balance\n",
              "count  245725.000000  245725.000000         2.457250e+05\n",
              "mean       43.856307      46.959141         1.128403e+06\n",
              "std        14.828672      32.353136         8.529364e+05\n",
              "min        23.000000       7.000000         2.079000e+04\n",
              "25%        30.000000      20.000000         6.043100e+05\n",
              "50%        43.000000      32.000000         8.946010e+05\n",
              "75%        54.000000      73.000000         1.366666e+06\n",
              "max        85.000000     135.000000         1.035201e+07"
            ]
          },
          "metadata": {
            "tags": []
          },
          "execution_count": 29
        }
      ]
    },
    {
      "cell_type": "markdown",
      "metadata": {
        "id": "kvgA_ATDqfMT"
      },
      "source": [
        "From the abservations the average age of an individual is 43 and the minimum age of an individual is 23 and maximum is 85.The standard deviation is 14.828672.  \n",
        "\n",
        "The average account balance is 11.8403 Lakhs and the minimun and maximun account balance are 0.2079 lakhs and 103.5201 Lakhs. The standard deviation is 852936.4.  \n",
        "\n",
        "The avergae vintage is 47 months and the minimum and maximum are 7 and 135 months rescpetively. The standard deviation is 32.353136.  \n",
        "\n",
        "| Statatics | Age  | Vintage  | Avg_Account_Balance | \n",
        "|-----------|------|----------| --------------------|\n",
        "|   Mean    |  43  |    47    |      1128403        |\n",
        "|   Median  |  43  |    32    |      13666666       |\n",
        "|   STD     | 14.8 |  32.353  |         85236.4     |\n",
        "|   Min     |  23  |     7    |         20790       |\n",
        "|   Max     |  85  |   135    |      10352010       |\n",
        "| Null count|  0   |     0    |             0       |\n"
      ]
    },
    {
      "cell_type": "markdown",
      "metadata": {
        "id": "q43PEDqxqfMU"
      },
      "source": [
        "**Descriptive stats of continous columns**"
      ]
    },
    {
      "cell_type": "code",
      "metadata": {
        "colab": {
          "base_uri": "https://localhost:8080/",
          "height": 175
        },
        "id": "CAnLfXdxqfMU",
        "outputId": "a60899bd-b3b7-4f5e-dda8-2397e12f345c"
      },
      "source": [
        "bank_data[categ_cols].describe(include='object')"
      ],
      "execution_count": null,
      "outputs": [
        {
          "output_type": "execute_result",
          "data": {
            "text/html": [
              "<div>\n",
              "<style scoped>\n",
              "    .dataframe tbody tr th:only-of-type {\n",
              "        vertical-align: middle;\n",
              "    }\n",
              "\n",
              "    .dataframe tbody tr th {\n",
              "        vertical-align: top;\n",
              "    }\n",
              "\n",
              "    .dataframe thead th {\n",
              "        text-align: right;\n",
              "    }\n",
              "</style>\n",
              "<table border=\"1\" class=\"dataframe\">\n",
              "  <thead>\n",
              "    <tr style=\"text-align: right;\">\n",
              "      <th></th>\n",
              "      <th>Gender</th>\n",
              "      <th>Region_Code</th>\n",
              "      <th>Occupation</th>\n",
              "      <th>Channel_Code</th>\n",
              "      <th>Credit_Product</th>\n",
              "      <th>Is_Active</th>\n",
              "    </tr>\n",
              "  </thead>\n",
              "  <tbody>\n",
              "    <tr>\n",
              "      <th>count</th>\n",
              "      <td>245725</td>\n",
              "      <td>245725</td>\n",
              "      <td>245725</td>\n",
              "      <td>245725</td>\n",
              "      <td>216400</td>\n",
              "      <td>245725</td>\n",
              "    </tr>\n",
              "    <tr>\n",
              "      <th>unique</th>\n",
              "      <td>2</td>\n",
              "      <td>35</td>\n",
              "      <td>4</td>\n",
              "      <td>4</td>\n",
              "      <td>2</td>\n",
              "      <td>2</td>\n",
              "    </tr>\n",
              "    <tr>\n",
              "      <th>top</th>\n",
              "      <td>Male</td>\n",
              "      <td>RG268</td>\n",
              "      <td>Self_Employed</td>\n",
              "      <td>X1</td>\n",
              "      <td>No</td>\n",
              "      <td>No</td>\n",
              "    </tr>\n",
              "    <tr>\n",
              "      <th>freq</th>\n",
              "      <td>134197</td>\n",
              "      <td>35934</td>\n",
              "      <td>100886</td>\n",
              "      <td>103718</td>\n",
              "      <td>144357</td>\n",
              "      <td>150290</td>\n",
              "    </tr>\n",
              "  </tbody>\n",
              "</table>\n",
              "</div>"
            ],
            "text/plain": [
              "        Gender Region_Code     Occupation Channel_Code Credit_Product Is_Active\n",
              "count   245725      245725         245725       245725         216400    245725\n",
              "unique       2          35              4            4              2         2\n",
              "top       Male       RG268  Self_Employed           X1             No        No\n",
              "freq    134197       35934         100886       103718         144357    150290"
            ]
          },
          "metadata": {
            "tags": []
          },
          "execution_count": 30
        }
      ]
    },
    {
      "cell_type": "markdown",
      "metadata": {
        "id": "oAFIUlHTqfMU"
      },
      "source": [
        "From the observations,  \n",
        "- Gender has 2 categories and the most occuring category is Male with 135297 frequency.  \n",
        "- Region_Code has 35 categories and the most occuring category is RG268 with 35934 frequency.  \n",
        "- Occupation has 4 categories and the most occuring category is Self_Employed with 100886 frequency.  \n",
        "- Channel_Code has 4 categories and the most occuring category is X1 with 103718 frequency.  \n",
        "- Credit_Product has 2 categories and the most occuring category is No with 144357 frequency.  \n",
        "- Is_Active has 2 categories and the most occuring category is No with 150290 frequency.  \n",
        "\n",
        "| Statatics | Gender | Region_Code |  Occupation  | Channel_Code | Credit_Product | Is_Active |\n",
        "|-----------|--------|-------------|--------------|--------------|----------------|-----------|\n",
        "|  Unique   |   2    |     35      |      4       |      4       |        2       |     2     |\n",
        "|   Mode    |  Male  |    RG268    | Self_Employed|     X1       |        No      |     No    |\n",
        "| Frequency | 134197 |    35934    |    100886    |    103718    |      144357    |   150290  |\n"
      ]
    },
    {
      "cell_type": "markdown",
      "metadata": {
        "id": "nUZJP8p7qfMV"
      },
      "source": [
        "**Descriptive Stats for Output Feature(IS_Lead)**"
      ]
    },
    {
      "cell_type": "code",
      "metadata": {
        "colab": {
          "base_uri": "https://localhost:8080/"
        },
        "id": "yTcQV0ZsqfMV",
        "outputId": "b1c7523f-b9ea-4d6e-ee1b-285c5e5fae92"
      },
      "source": [
        "bank_data['Is_Lead'].astype(object).describe(include='object')"
      ],
      "execution_count": null,
      "outputs": [
        {
          "output_type": "execute_result",
          "data": {
            "text/plain": [
              "count     245725\n",
              "unique         2\n",
              "top            0\n",
              "freq      187437\n",
              "Name: Is_Lead, dtype: int64"
            ]
          },
          "metadata": {
            "tags": []
          },
          "execution_count": 31
        }
      ]
    },
    {
      "cell_type": "markdown",
      "metadata": {
        "id": "gaHTz8fKqfMV"
      },
      "source": [
        "From the observation  \n",
        "- Is_Lead has 2 categories and the most occuring category is 0 with 187437 frequency\n",
        "| Statatics | IS_Lead| \n",
        "|-----------|--------|\n",
        "|  Unique   |   2    |\n",
        "|   Mode    |   0    |\n",
        "| Frequency | 187437 |"
      ]
    },
    {
      "cell_type": "markdown",
      "metadata": {
        "id": "a7Df6J6wqfMW"
      },
      "source": [
        "**Univariate Analysis of Features** \n",
        "\n",
        "**Continuous Features**  \n",
        "\n",
        "**Ouliers analysis**"
      ]
    },
    {
      "cell_type": "code",
      "metadata": {
        "colab": {
          "base_uri": "https://localhost:8080/",
          "height": 297
        },
        "id": "ZcdMutIRqfMW",
        "outputId": "cfd57d84-827f-4c5a-e68e-56a93fa6e8ff"
      },
      "source": [
        "sns.boxplot(x=bank_data['Age'])"
      ],
      "execution_count": null,
      "outputs": [
        {
          "output_type": "execute_result",
          "data": {
            "text/plain": [
              "<matplotlib.axes._subplots.AxesSubplot at 0x7f12acaab2d0>"
            ]
          },
          "metadata": {
            "tags": []
          },
          "execution_count": 32
        },
        {
          "output_type": "display_data",
          "data": {
            "image/png": "[encoded data removed]",
            "text/plain": [
              "<Figure size 432x288 with 1 Axes>"
            ]
          },
          "metadata": {
            "tags": [],
            "needs_background": "light"
          }
        }
      ]
    },
    {
      "cell_type": "code",
      "metadata": {
        "colab": {
          "base_uri": "https://localhost:8080/",
          "height": 297
        },
        "id": "UpAPUzW8qfMW",
        "outputId": "5eba19db-9842-4bcf-e5f5-f1e4cdcde339"
      },
      "source": [
        "sns.boxplot(x=bank_data['Vintage'])"
      ],
      "execution_count": null,
      "outputs": [
        {
          "output_type": "execute_result",
          "data": {
            "text/plain": [
              "<matplotlib.axes._subplots.AxesSubplot at 0x7f12ac262210>"
            ]
          },
          "metadata": {
            "tags": []
          },
          "execution_count": 33
        },
        {
          "output_type": "display_data",
          "data": {
            "image/png": "[encoded data removed]",
            "text/plain": [
              "<Figure size 432x288 with 1 Axes>"
            ]
          },
          "metadata": {
            "tags": [],
            "needs_background": "light"
          }
        }
      ]
    },
    {
      "cell_type": "code",
      "metadata": {
        "colab": {
          "base_uri": "https://localhost:8080/",
          "height": 298
        },
        "id": "xFjcyvqGqfMW",
        "scrolled": false,
        "outputId": "2db52b5f-b919-49ad-df83-2080e384106b"
      },
      "source": [
        "sns.boxplot(x=bank_data['Avg_Account_Balance'])"
      ],
      "execution_count": null,
      "outputs": [
        {
          "output_type": "execute_result",
          "data": {
            "text/plain": [
              "<matplotlib.axes._subplots.AxesSubplot at 0x7f12ac1928d0>"
            ]
          },
          "metadata": {
            "tags": []
          },
          "execution_count": 34
        },
        {
          "output_type": "display_data",
          "data": {
            "image/png": "[encoded data removed]",
            "text/plain": [
              "<Figure size 432x288 with 1 Axes>"
            ]
          },
          "metadata": {
            "tags": [],
            "needs_background": "light"
          }
        }
      ]
    },
    {
      "cell_type": "markdown",
      "metadata": {
        "id": "qjBERYoRqfMX"
      },
      "source": [
        "From tje observations  \n",
        "- There are no outliers in Age and Vintage. There are so many outliers in Avg_Account_Balance"
      ]
    },
    {
      "cell_type": "code",
      "metadata": {
        "colab": {
          "base_uri": "https://localhost:8080/",
          "height": 387
        },
        "id": "HrHhham7qfMY",
        "outputId": "ffeb1ed1-89db-4e1d-8592-75665e88febe"
      },
      "source": [
        "sns.displot(bank_data['Age'],bins=100,kde=True)"
      ],
      "execution_count": null,
      "outputs": [
        {
          "output_type": "execute_result",
          "data": {
            "text/plain": [
              "<seaborn.axisgrid.FacetGrid at 0x7f12aca86dd0>"
            ]
          },
          "metadata": {
            "tags": []
          },
          "execution_count": 35
        },
        {
          "output_type": "display_data",
          "data": {
            "image/png": "[encoded data removed]",
            "text/plain": [
              "<Figure size 360x360 with 1 Axes>"
            ]
          },
          "metadata": {
            "tags": [],
            "needs_background": "light"
          }
        }
      ]
    },
    {
      "cell_type": "code",
      "metadata": {
        "colab": {
          "base_uri": "https://localhost:8080/",
          "height": 350
        },
        "id": "DVSxpiwOqfMY",
        "outputId": "d6e70039-a0e0-4075-b624-23cd0f4c5876"
      },
      "source": [
        "stats.probplot(bank_data['Age'], dist=\"norm\", plot=plt)"
      ],
      "execution_count": null,
      "outputs": [
        {
          "output_type": "execute_result",
          "data": {
            "text/plain": [
              "((array([-4.53939294, -4.34870864, -4.24526711, ...,  4.24526711,\n",
              "          4.34870864,  4.53939294]), array([23, 24, 24, ..., 85, 85, 85])),\n",
              " (14.300178462391147, 43.85630684708516, 0.9643435434810436))"
            ]
          },
          "metadata": {
            "tags": []
          },
          "execution_count": 36
        },
        {
          "output_type": "display_data",
          "data": {
            "image/png": "[encoded data removed]",
            "text/plain": [
              "<Figure size 432x288 with 1 Axes>"
            ]
          },
          "metadata": {
            "tags": [],
            "needs_background": "light"
          }
        }
      ]
    },
    {
      "cell_type": "code",
      "metadata": {
        "colab": {
          "base_uri": "https://localhost:8080/",
          "height": 387
        },
        "id": "UFVNMn8JqfMY",
        "scrolled": false,
        "outputId": "abc28cf5-7ad1-40ed-f124-1181be9a16f8"
      },
      "source": [
        "sns.displot(bank_data['Vintage'],kde=True)"
      ],
      "execution_count": null,
      "outputs": [
        {
          "output_type": "execute_result",
          "data": {
            "text/plain": [
              "<seaborn.axisgrid.FacetGrid at 0x7f12a18a2610>"
            ]
          },
          "metadata": {
            "tags": []
          },
          "execution_count": 37
        },
        {
          "output_type": "display_data",
          "data": {
            "image/png": "[encoded data removed]",
            "text/plain": [
              "<Figure size 360x360 with 1 Axes>"
            ]
          },
          "metadata": {
            "tags": [],
            "needs_background": "light"
          }
        }
      ]
    },
    {
      "cell_type": "code",
      "metadata": {
        "colab": {
          "base_uri": "https://localhost:8080/",
          "height": 369
        },
        "id": "a_KAt08LqfMZ",
        "outputId": "10d128fb-f220-439b-863d-fbabdde0dfea"
      },
      "source": [
        "stats.probplot(bank_data['Vintage'], dist=\"norm\", plot=plt)"
      ],
      "execution_count": null,
      "outputs": [
        {
          "output_type": "execute_result",
          "data": {
            "text/plain": [
              "((array([-4.53939294, -4.34870864, -4.24526711, ...,  4.24526711,\n",
              "          4.34870864,  4.53939294]),\n",
              "  array([  7,   7,   7, ..., 135, 135, 135])),\n",
              " (30.15749672237347, 46.95914131651236, 0.932119262461722))"
            ]
          },
          "metadata": {
            "tags": []
          },
          "execution_count": 38
        },
        {
          "output_type": "display_data",
          "data": {
            "image/png": "[encoded data removed]",
            "text/plain": [
              "<Figure size 432x288 with 1 Axes>"
            ]
          },
          "metadata": {
            "tags": [],
            "needs_background": "light"
          }
        }
      ]
    },
    {
      "cell_type": "code",
      "metadata": {
        "colab": {
          "base_uri": "https://localhost:8080/",
          "height": 387
        },
        "id": "3xN4A6_yqfMZ",
        "outputId": "816ebbc4-f7b1-40b8-c9f3-4371ce1bb693"
      },
      "source": [
        "sns.displot(bank_data['Avg_Account_Balance'],kde=True)"
      ],
      "execution_count": null,
      "outputs": [
        {
          "output_type": "execute_result",
          "data": {
            "text/plain": [
              "<seaborn.axisgrid.FacetGrid at 0x7f12a164b990>"
            ]
          },
          "metadata": {
            "tags": []
          },
          "execution_count": 39
        },
        {
          "output_type": "display_data",
          "data": {
            "image/png": "[encoded data removed]",
            "text/plain": [
              "<Figure size 360x360 with 1 Axes>"
            ]
          },
          "metadata": {
            "tags": [],
            "needs_background": "light"
          }
        }
      ]
    },
    {
      "cell_type": "code",
      "metadata": {
        "colab": {
          "base_uri": "https://localhost:8080/",
          "height": 369
        },
        "id": "04fRHPqOqfMZ",
        "outputId": "e6bbf374-5c45-43d8-80f2-783b707fcf53"
      },
      "source": [
        "stats.probplot(bank_data['Avg_Account_Balance'], dist=\"norm\", plot=plt)"
      ],
      "execution_count": null,
      "outputs": [
        {
          "output_type": "execute_result",
          "data": {
            "text/plain": [
              "((array([-4.53939294, -4.34870864, -4.24526711, ...,  4.24526711,\n",
              "          4.34870864,  4.53939294]),\n",
              "  array([   20790,    45657,    45950, ...,  9792796, 10007678, 10352009])),\n",
              " (737620.9259145876, 1128403.1010194323, 0.8647870459691805))"
            ]
          },
          "metadata": {
            "tags": []
          },
          "execution_count": 40
        },
        {
          "output_type": "display_data",
          "data": {
            "image/png": "[encoded data removed]",
            "text/plain": [
              "<Figure size 432x288 with 1 Axes>"
            ]
          },
          "metadata": {
            "tags": [],
            "needs_background": "light"
          }
        }
      ]
    },
    {
      "cell_type": "markdown",
      "metadata": {
        "id": "m4bHF8zeqfMZ"
      },
      "source": [
        "From the above observations  \n",
        "- No Continous Feature is Normally distributed\n",
        "- Age and Vintage features doesnot seems like any famous distributions but Avg_Account_Balance distribution seems like log normal distribution"
      ]
    },
    {
      "cell_type": "markdown",
      "metadata": {
        "id": "obahKYWlqfMa"
      },
      "source": [
        "**Categorical Features**"
      ]
    },
    {
      "cell_type": "code",
      "metadata": {
        "colab": {
          "base_uri": "https://localhost:8080/",
          "height": 326
        },
        "id": "hAP-Mk1jqfMa",
        "outputId": "a1622f3c-787b-4291-91e6-9d4e20948061"
      },
      "source": [
        "plt.xticks(rotation=90)\n",
        "sns.countplot(data=bank_data,x='Gender')"
      ],
      "execution_count": null,
      "outputs": [
        {
          "output_type": "execute_result",
          "data": {
            "text/plain": [
              "<matplotlib.axes._subplots.AxesSubplot at 0x7f12a1814a10>"
            ]
          },
          "metadata": {
            "tags": []
          },
          "execution_count": 41
        },
        {
          "output_type": "display_data",
          "data": {
            "image/png": "[encoded data removed]",
            "text/plain": [
              "<Figure size 432x288 with 1 Axes>"
            ]
          },
          "metadata": {
            "tags": [],
            "needs_background": "light"
          }
        }
      ]
    },
    {
      "cell_type": "markdown",
      "metadata": {
        "id": "pUWfb8G1qfMa"
      },
      "source": [
        "Observation  \n",
        "- Male are higher in amount than females"
      ]
    },
    {
      "cell_type": "code",
      "metadata": {
        "colab": {
          "base_uri": "https://localhost:8080/",
          "height": 648
        },
        "id": "5y1fYI_NqfMa",
        "outputId": "91f18d1a-b1a6-4a59-cb3a-c43a11ebe340"
      },
      "source": [
        "plt.figure(figsize=(20,10))\n",
        "plt.xticks(rotation=90)\n",
        "sns.countplot(data=bank_data,x='Region_Code')"
      ],
      "execution_count": null,
      "outputs": [
        {
          "output_type": "execute_result",
          "data": {
            "text/plain": [
              "<matplotlib.axes._subplots.AxesSubplot at 0x7f12a1168310>"
            ]
          },
          "metadata": {
            "tags": []
          },
          "execution_count": 42
        },
        {
          "output_type": "display_data",
          "data": {
            "image/png": "[encoded data removed]",
            "text/plain": [
              "<Figure size 1440x720 with 1 Axes>"
            ]
          },
          "metadata": {
            "tags": [],
            "needs_background": "light"
          }
        }
      ]
    },
    {
      "cell_type": "markdown",
      "metadata": {
        "id": "gIkaQPHuqfMb"
      },
      "source": [
        "observation  \n",
        "- Most of the people are from Region 'RG268'"
      ]
    },
    {
      "cell_type": "code",
      "metadata": {
        "colab": {
          "base_uri": "https://localhost:8080/",
          "height": 361
        },
        "id": "YcAK4w6WqfMb",
        "outputId": "ccba10d1-926c-479d-b3dc-829b74602b92"
      },
      "source": [
        "plt.xticks(rotation=90)\n",
        "sns.countplot(data=bank_data,x='Occupation')"
      ],
      "execution_count": null,
      "outputs": [
        {
          "output_type": "execute_result",
          "data": {
            "text/plain": [
              "<matplotlib.axes._subplots.AxesSubplot at 0x7f12a1013750>"
            ]
          },
          "metadata": {
            "tags": []
          },
          "execution_count": 43
        },
        {
          "output_type": "display_data",
          "data": {
            "image/png": "[encoded data removed]",
            "text/plain": [
              "<Figure size 432x288 with 1 Axes>"
            ]
          },
          "metadata": {
            "tags": [],
            "needs_background": "light"
          }
        }
      ]
    },
    {
      "cell_type": "markdown",
      "metadata": {
        "id": "8epmZhbgqfMc"
      },
      "source": [
        "observation  \n",
        "- Most of the people are 'Self_Employed'"
      ]
    },
    {
      "cell_type": "code",
      "metadata": {
        "colab": {
          "base_uri": "https://localhost:8080/",
          "height": 301
        },
        "id": "AvjF1dHpqfMc",
        "outputId": "e0b28c69-2953-4509-88ba-23cd984c4a28"
      },
      "source": [
        "plt.xticks(rotation=90)\n",
        "sns.countplot(data=bank_data,x='Channel_Code')"
      ],
      "execution_count": null,
      "outputs": [
        {
          "output_type": "execute_result",
          "data": {
            "text/plain": [
              "<matplotlib.axes._subplots.AxesSubplot at 0x7f12a0f7df90>"
            ]
          },
          "metadata": {
            "tags": []
          },
          "execution_count": 44
        },
        {
          "output_type": "display_data",
          "data": {
            "image/png": "[encoded data removed]",
            "text/plain": [
              "<Figure size 432x288 with 1 Axes>"
            ]
          },
          "metadata": {
            "tags": [],
            "needs_background": "light"
          }
        }
      ]
    },
    {
      "cell_type": "markdown",
      "metadata": {
        "id": "CEOFpWYNqfMc"
      },
      "source": [
        "observation  \n",
        "- Most of the people by channel_code 'X1'"
      ]
    },
    {
      "cell_type": "code",
      "metadata": {
        "colab": {
          "base_uri": "https://localhost:8080/",
          "height": 304
        },
        "id": "jIocE9EqqfMc",
        "outputId": "468cca8d-7fc7-4dc0-849f-33808cc60e52"
      },
      "source": [
        "plt.xticks(rotation=90)\n",
        "sns.countplot(data=bank_data,x='Credit_Product')"
      ],
      "execution_count": null,
      "outputs": [
        {
          "output_type": "execute_result",
          "data": {
            "text/plain": [
              "<matplotlib.axes._subplots.AxesSubplot at 0x7f12a0f6c6d0>"
            ]
          },
          "metadata": {
            "tags": []
          },
          "execution_count": 45
        },
        {
          "output_type": "display_data",
          "data": {
            "image/png": "[encoded data removed]",
            "text/plain": [
              "<Figure size 432x288 with 1 Axes>"
            ]
          },
          "metadata": {
            "tags": [],
            "needs_background": "light"
          }
        }
      ]
    },
    {
      "cell_type": "markdown",
      "metadata": {
        "id": "cOMjRZgNqfMd"
      },
      "source": [
        "observation  \n",
        "- Most of the people doenot have credit_products"
      ]
    },
    {
      "cell_type": "code",
      "metadata": {
        "colab": {
          "base_uri": "https://localhost:8080/",
          "height": 304
        },
        "id": "uiNWhy9uqfMd",
        "outputId": "c4c1d667-0c3b-4199-ba66-2beadec969e1"
      },
      "source": [
        "plt.xticks(rotation=90)\n",
        "sns.countplot(data=bank_data,x='Is_Active')"
      ],
      "execution_count": null,
      "outputs": [
        {
          "output_type": "execute_result",
          "data": {
            "text/plain": [
              "<matplotlib.axes._subplots.AxesSubplot at 0x7f12a0ecca90>"
            ]
          },
          "metadata": {
            "tags": []
          },
          "execution_count": 46
        },
        {
          "output_type": "display_data",
          "data": {
            "image/png": "[encoded data removed]",
            "text/plain": [
              "<Figure size 432x288 with 1 Axes>"
            ]
          },
          "metadata": {
            "tags": [],
            "needs_background": "light"
          }
        }
      ]
    },
    {
      "cell_type": "markdown",
      "metadata": {
        "id": "glMJr5WSqfMd"
      },
      "source": [
        "observation  \n",
        "- Most of the people are inavtive from last 3 months"
      ]
    },
    {
      "cell_type": "markdown",
      "metadata": {
        "id": "HR0NVNTVqfMd"
      },
      "source": [
        "**Bivariate Analysis**"
      ]
    },
    {
      "cell_type": "code",
      "metadata": {
        "colab": {
          "base_uri": "https://localhost:8080/",
          "height": 472
        },
        "id": "I1j_axgoqfMd",
        "outputId": "eba78d32-6fd6-446f-8a17-c90bce3d300e"
      },
      "source": [
        "plt.figure(figsize=(22,7))\n",
        "sns.boxplot(y=bank_data['Avg_Account_Balance'],x=bank_data['Is_Lead'].astype(object),hue=bank_data['Occupation'])"
      ],
      "execution_count": null,
      "outputs": [
        {
          "output_type": "execute_result",
          "data": {
            "text/plain": [
              "<matplotlib.axes._subplots.AxesSubplot at 0x7f12a0fae9d0>"
            ]
          },
          "metadata": {
            "tags": []
          },
          "execution_count": 47
        },
        {
          "output_type": "display_data",
          "data": {
            "image/png": "[encoded data removed]",
            "text/plain": [
              "<Figure size 1584x504 with 1 Axes>"
            ]
          },
          "metadata": {
            "tags": [],
            "needs_background": "light"
          }
        }
      ]
    },
    {
      "cell_type": "code",
      "metadata": {
        "colab": {
          "base_uri": "https://localhost:8080/",
          "height": 527
        },
        "id": "YX4hoaIEqfMe",
        "outputId": "f1f51a89-f863-475e-fbf0-4d19c0a414c3"
      },
      "source": [
        "plt.figure(figsize=(12,8))\n",
        "sns.boxplot(y=bank_data['Avg_Account_Balance'],x=bank_data['Is_Lead'].astype(object),hue=bank_data['Gender'])"
      ],
      "execution_count": null,
      "outputs": [
        {
          "output_type": "execute_result",
          "data": {
            "text/plain": [
              "<matplotlib.axes._subplots.AxesSubplot at 0x7f12a0d27fd0>"
            ]
          },
          "metadata": {
            "tags": []
          },
          "execution_count": 48
        },
        {
          "output_type": "display_data",
          "data": {
            "image/png": "[encoded data removed]",
            "text/plain": [
              "<Figure size 864x576 with 1 Axes>"
            ]
          },
          "metadata": {
            "tags": [],
            "needs_background": "light"
          }
        }
      ]
    },
    {
      "cell_type": "code",
      "metadata": {
        "colab": {
          "base_uri": "https://localhost:8080/",
          "height": 527
        },
        "id": "0HOoAZbJqfMe",
        "outputId": "1ad1362f-31ed-49b3-c421-528cc3567a04"
      },
      "source": [
        "plt.figure(figsize=(12,8))\n",
        "sns.boxplot(y=bank_data['Avg_Account_Balance'],x=bank_data['Is_Lead'].astype(object),hue=bank_data['Is_Active'])"
      ],
      "execution_count": null,
      "outputs": [
        {
          "output_type": "execute_result",
          "data": {
            "text/plain": [
              "<matplotlib.axes._subplots.AxesSubplot at 0x7f12a0c55d10>"
            ]
          },
          "metadata": {
            "tags": []
          },
          "execution_count": 49
        },
        {
          "output_type": "display_data",
          "data": {
            "image/png": "[encoded data removed]",
            "text/plain": [
              "<Figure size 864x576 with 1 Axes>"
            ]
          },
          "metadata": {
            "tags": [],
            "needs_background": "light"
          }
        }
      ]
    },
    {
      "cell_type": "code",
      "metadata": {
        "colab": {
          "base_uri": "https://localhost:8080/",
          "height": 516
        },
        "id": "0jp1eJtbqfMf",
        "outputId": "1c117817-39f8-4efa-9adc-ef56f063f456"
      },
      "source": [
        "plt.figure(figsize=(12,8))\n",
        "sns.histplot(data=bank_data,x='Gender',hue='Is_Lead',stat=\"count\", multiple=\"stack\")"
      ],
      "execution_count": null,
      "outputs": [
        {
          "output_type": "execute_result",
          "data": {
            "text/plain": [
              "<matplotlib.axes._subplots.AxesSubplot at 0x7f12a0b90f10>"
            ]
          },
          "metadata": {
            "tags": []
          },
          "execution_count": 50
        },
        {
          "output_type": "display_data",
          "data": {
            "image/png": "[encoded data removed]",
            "text/plain": [
              "<Figure size 864x576 with 1 Axes>"
            ]
          },
          "metadata": {
            "tags": [],
            "needs_background": "light"
          }
        }
      ]
    },
    {
      "cell_type": "code",
      "metadata": {
        "colab": {
          "base_uri": "https://localhost:8080/",
          "height": 518
        },
        "id": "HXjXMEneqfMg",
        "outputId": "6e435aee-da24-4780-f49d-0b84fd4bc3da"
      },
      "source": [
        "plt.figure(figsize=(25,8))\n",
        "plt.xticks(rotation=90)\n",
        "sns.histplot(data=bank_data,x='Region_Code',hue='Is_Lead',stat=\"count\", multiple=\"stack\")"
      ],
      "execution_count": null,
      "outputs": [
        {
          "output_type": "execute_result",
          "data": {
            "text/plain": [
              "<matplotlib.axes._subplots.AxesSubplot at 0x7f12a0b799d0>"
            ]
          },
          "metadata": {
            "tags": []
          },
          "execution_count": 51
        },
        {
          "output_type": "display_data",
          "data": {
            "image/png": "[encoded data removed]",
            "text/plain": [
              "<Figure size 1800x576 with 1 Axes>"
            ]
          },
          "metadata": {
            "tags": [],
            "needs_background": "light"
          }
        }
      ]
    },
    {
      "cell_type": "code",
      "metadata": {
        "colab": {
          "base_uri": "https://localhost:8080/",
          "height": 516
        },
        "id": "es2XuOOMqfMh",
        "outputId": "b43b3a0a-bd6c-4d8d-c839-2daa78b03733"
      },
      "source": [
        "plt.figure(figsize=(12,8))\n",
        "sns.histplot(data=bank_data,x='Occupation',hue='Is_Lead',stat=\"count\", multiple=\"stack\")"
      ],
      "execution_count": null,
      "outputs": [
        {
          "output_type": "execute_result",
          "data": {
            "text/plain": [
              "<matplotlib.axes._subplots.AxesSubplot at 0x7f12a13e2650>"
            ]
          },
          "metadata": {
            "tags": []
          },
          "execution_count": 52
        },
        {
          "output_type": "display_data",
          "data": {
            "image/png": "[encoded data removed]",
            "text/plain": [
              "<Figure size 864x576 with 1 Axes>"
            ]
          },
          "metadata": {
            "tags": [],
            "needs_background": "light"
          }
        }
      ]
    },
    {
      "cell_type": "code",
      "metadata": {
        "colab": {
          "base_uri": "https://localhost:8080/",
          "height": 516
        },
        "id": "MGBZ6q_4qfMh",
        "outputId": "b4c53370-71fc-4edc-a382-3a28e1f3c0c8"
      },
      "source": [
        "plt.figure(figsize=(12,8))\n",
        "sns.histplot(data=bank_data,x='Channel_Code',hue='Is_Lead',stat=\"count\", multiple=\"stack\")"
      ],
      "execution_count": null,
      "outputs": [
        {
          "output_type": "execute_result",
          "data": {
            "text/plain": [
              "<matplotlib.axes._subplots.AxesSubplot at 0x7f12a0a1a9d0>"
            ]
          },
          "metadata": {
            "tags": []
          },
          "execution_count": 53
        },
        {
          "output_type": "display_data",
          "data": {
            "image/png": "[encoded data removed]",
            "text/plain": [
              "<Figure size 864x576 with 1 Axes>"
            ]
          },
          "metadata": {
            "tags": [],
            "needs_background": "light"
          }
        }
      ]
    },
    {
      "cell_type": "code",
      "metadata": {
        "colab": {
          "base_uri": "https://localhost:8080/",
          "height": 516
        },
        "id": "f-hIkez3qfMh",
        "outputId": "48db8261-14b0-4ce2-ee23-8a657a8f7724"
      },
      "source": [
        "plt.figure(figsize=(10,8))\n",
        "sns.histplot(data=bank_data,x='Is_Active',hue='Is_Lead',stat=\"count\", multiple=\"stack\")"
      ],
      "execution_count": null,
      "outputs": [
        {
          "output_type": "execute_result",
          "data": {
            "text/plain": [
              "<matplotlib.axes._subplots.AxesSubplot at 0x7f12a1661890>"
            ]
          },
          "metadata": {
            "tags": []
          },
          "execution_count": 54
        },
        {
          "output_type": "display_data",
          "data": {
            "image/png": "[encoded data removed]",
            "text/plain": [
              "<Figure size 720x576 with 1 Axes>"
            ]
          },
          "metadata": {
            "tags": [],
            "needs_background": "light"
          }
        }
      ]
    },
    {
      "cell_type": "code",
      "metadata": {
        "colab": {
          "base_uri": "https://localhost:8080/",
          "height": 527
        },
        "id": "KcJFsxW0qfMh",
        "outputId": "51f9d2c2-aebf-46d0-deb4-5cf001b80928"
      },
      "source": [
        "plt.figure(figsize=(12,8))\n",
        "sns.barplot(x=bank_data['Is_Lead'].astype(object),y=bank_data['Avg_Account_Balance'],hue=bank_data['Gender'])"
      ],
      "execution_count": null,
      "outputs": [
        {
          "output_type": "execute_result",
          "data": {
            "text/plain": [
              "<matplotlib.axes._subplots.AxesSubplot at 0x7f12a0976490>"
            ]
          },
          "metadata": {
            "tags": []
          },
          "execution_count": 55
        },
        {
          "output_type": "display_data",
          "data": {
            "image/png": "[encoded data removed]",
            "text/plain": [
              "<Figure size 864x576 with 1 Axes>"
            ]
          },
          "metadata": {
            "tags": [],
            "needs_background": "light"
          }
        }
      ]
    },
    {
      "cell_type": "code",
      "metadata": {
        "colab": {
          "base_uri": "https://localhost:8080/",
          "height": 527
        },
        "id": "PfwKZql7qfMh",
        "outputId": "2d6ef93f-a863-4170-a8a7-c1fec691adcf"
      },
      "source": [
        "plt.figure(figsize=(12,8))\n",
        "sns.barplot(x=bank_data['Is_Lead'].astype(object),y=bank_data['Avg_Account_Balance'],hue=bank_data['Occupation'])"
      ],
      "execution_count": null,
      "outputs": [
        {
          "output_type": "execute_result",
          "data": {
            "text/plain": [
              "<matplotlib.axes._subplots.AxesSubplot at 0x7f12a0852050>"
            ]
          },
          "metadata": {
            "tags": []
          },
          "execution_count": 56
        },
        {
          "output_type": "display_data",
          "data": {
            "image/png": "[encoded data removed]",
            "text/plain": [
              "<Figure size 864x576 with 1 Axes>"
            ]
          },
          "metadata": {
            "tags": [],
            "needs_background": "light"
          }
        }
      ]
    },
    {
      "cell_type": "code",
      "metadata": {
        "colab": {
          "base_uri": "https://localhost:8080/",
          "height": 527
        },
        "id": "1zH3NQ7jqfMi",
        "outputId": "a84d6d84-4f92-46ad-e401-d2e0053de108"
      },
      "source": [
        "plt.figure(figsize=(12,8))\n",
        "sns.barplot(x=bank_data['Is_Lead'].astype(object),y=bank_data['Avg_Account_Balance'],hue=bank_data['Is_Active'])"
      ],
      "execution_count": null,
      "outputs": [
        {
          "output_type": "execute_result",
          "data": {
            "text/plain": [
              "<matplotlib.axes._subplots.AxesSubplot at 0x7f12a07e5990>"
            ]
          },
          "metadata": {
            "tags": []
          },
          "execution_count": 57
        },
        {
          "output_type": "display_data",
          "data": {
            "image/png": "[encoded data removed]",
            "text/plain": [
              "<Figure size 864x576 with 1 Axes>"
            ]
          },
          "metadata": {
            "tags": [],
            "needs_background": "light"
          }
        }
      ]
    },
    {
      "cell_type": "code",
      "metadata": {
        "colab": {
          "base_uri": "https://localhost:8080/",
          "height": 527
        },
        "id": "Ez0Qm8JmqfMi",
        "outputId": "48bfc6ea-2021-4045-fada-87c7bb43219e"
      },
      "source": [
        "plt.figure(figsize=(12,8))\n",
        "sns.barplot(x=bank_data['Is_Lead'].astype(object),y=bank_data['Avg_Account_Balance'],hue=bank_data['Credit_Product'])"
      ],
      "execution_count": null,
      "outputs": [
        {
          "output_type": "execute_result",
          "data": {
            "text/plain": [
              "<matplotlib.axes._subplots.AxesSubplot at 0x7f12a077ca50>"
            ]
          },
          "metadata": {
            "tags": []
          },
          "execution_count": 58
        },
        {
          "output_type": "display_data",
          "data": {
            "image/png": "[encoded data removed]",
            "text/plain": [
              "<Figure size 864x576 with 1 Axes>"
            ]
          },
          "metadata": {
            "tags": [],
            "needs_background": "light"
          }
        }
      ]
    },
    {
      "cell_type": "markdown",
      "metadata": {
        "id": "D62W2QJZqfMi"
      },
      "source": [
        "**Correlation between Features and Is_Lead feature**  \n",
        "**Is there a relationship between Features and specialisation?**    \n",
        "\n",
        "Step - 1:  \n",
        "Alternate Hypothesis (Bold Claim): $$ H_1: \\ Categorical\\ Feature\\ and\\ Is\\_Lead\\ are\\ correlated $$\n",
        "Null Hypothesis (Status Quo): $$ H_0: \\ Categorical Feature\\ and\\ Is\\_Lead\\ are\\ not\\ correlated $$\n",
        "\n",
        "Step - 2:\n",
        "Compute observed and expected values\n",
        "\n",
        "Step - 3:\n",
        "Compute Test Statistic: $$ \\chi^2 = \\sum\\left(\\frac{O_i-E_i}{E_i}\\right)$$\n",
        "\n",
        "Step - 4:\n",
        "Decide $ \\alpha $\n",
        "\n",
        "Step - 5: Compute p-value\n",
        "$$ if (p \\ value < 0.05) \\Rightarrow Accept \\ H_1 \\ or \\ Reject \\ H_0 $$"
      ]
    },
    {
      "cell_type": "code",
      "metadata": {
        "colab": {
          "base_uri": "https://localhost:8080/"
        },
        "id": "2UTyk22hqfMj",
        "outputId": "f9760d52-ae84-4bbc-a7fe-de305a9c9abd"
      },
      "source": [
        "for col in categ_cols:\n",
        "    cont=pd.crosstab(bank_data[col],bank_data['Is_Lead'])\n",
        "    if chi2_contingency(cont)[1]<0.05:\n",
        "        print(col,\"and\",\"Is_Lead\",\"are correlated\",sep=\" \")\n",
        "    else:\n",
        "        print(col,\"and\",\"Is_Lead\",\"are not correlated\",sep=\" \")"
      ],
      "execution_count": null,
      "outputs": [
        {
          "output_type": "stream",
          "text": [
            "Gender and Is_Lead are correlated\n",
            "Region_Code and Is_Lead are correlated\n",
            "Occupation and Is_Lead are correlated\n",
            "Channel_Code and Is_Lead are correlated\n",
            "Credit_Product and Is_Lead are correlated\n",
            "Is_Active and Is_Lead are correlated\n"
          ],
          "name": "stdout"
        }
      ]
    },
    {
      "cell_type": "markdown",
      "metadata": {
        "id": "GYxWXgyjqfMj"
      },
      "source": [
        "Observations  \n",
        "- Gender, Region_Code, Occupation, Channel_Code, Credit_Product, Is_Active are correlated with Is_Lead(Predicted Feature)"
      ]
    },
    {
      "cell_type": "code",
      "metadata": {
        "colab": {
          "base_uri": "https://localhost:8080/"
        },
        "id": "_fFU5fanqfMj",
        "outputId": "0acfb3ff-f083-4113-afcf-a52c70380bb0"
      },
      "source": [
        "non_corr=[]\n",
        "for col in conti_cols:\n",
        "    lis=pd.DataFrame(bank_data.groupby('Is_Lead'))\n",
        "    li=[]\n",
        "    for j in range(len(lis)):\n",
        "        li.append(list(lis[1][j][col]))\n",
        "    if f_oneway(*li)[1]>0.05:\n",
        "        print(col,\"and\",\"Is_Lead\",\"are not correlated\",sep=\" \") \n",
        "    else:\n",
        "        print(col,\"and\",\"Is_Lead\",\"are correlated\",sep=\" \")"
      ],
      "execution_count": null,
      "outputs": [
        {
          "output_type": "stream",
          "text": [
            "Age and Is_Lead are correlated\n",
            "Vintage and Is_Lead are correlated\n",
            "Avg_Account_Balance and Is_Lead are correlated\n"
          ],
          "name": "stdout"
        }
      ]
    },
    {
      "cell_type": "code",
      "metadata": {
        "colab": {
          "base_uri": "https://localhost:8080/"
        },
        "id": "Xh8Nt7GBzYti",
        "outputId": "1976e2f0-d108-4606-c140-8ce24c1a0785"
      },
      "source": [
        "pd.DataFrame(bank_data.groupby('Is_Lead'))[1][0]['Avg_Account_Balance']"
      ],
      "execution_count": null,
      "outputs": [
        {
          "output_type": "execute_result",
          "data": {
            "text/plain": [
              "ID\n",
              "NNVBBKZB    1045696\n",
              "IDD62UNG     581988\n",
              "HD3DSEMC    1484315\n",
              "BF3NC7KV     470454\n",
              "TEASRWXV     886787\n",
              "             ...   \n",
              "BPAWWXZN    1925586\n",
              "HFNB7JY8     862952\n",
              "GEHAUCWT     670659\n",
              "GE7V8SAH     407504\n",
              "BOCZSWLJ    1129276\n",
              "Name: Avg_Account_Balance, Length: 187437, dtype: int64"
            ]
          },
          "metadata": {
            "tags": []
          },
          "execution_count": 61
        }
      ]
    },
    {
      "cell_type": "markdown",
      "metadata": {
        "id": "N962vHikqfMj"
      },
      "source": [
        "observation  \n",
        "- Age, Vintage, Avg_Account_Balance features are correlated with Is_Lead feature."
      ]
    },
    {
      "cell_type": "markdown",
      "metadata": {
        "id": "jC5MzE0sqfMk"
      },
      "source": [
        "Observation  \n",
        "- All the features are correlated with Is_Lead Feature.\n",
        "- Missing values are present in Credit_Product Feature only\n",
        "- Outliers are present in Avg_Account_Balance  \n",
        "\n",
        "outliers and missing value treatments should be done as the data have missing values and outliers."
      ]
    },
    {
      "cell_type": "markdown",
      "metadata": {
        "id": "_oUJZKbQqfMk"
      },
      "source": [
        "**Outlier's Treatment**  \n",
        "**Scaling of the Features with outliers**"
      ]
    },
    {
      "cell_type": "code",
      "metadata": {
        "id": "ZTM5OosvqfMk"
      },
      "source": [
        "bank_data_standard=bank_data.copy(deep=True)\n",
        "from sklearn.preprocessing import StandardScaler\n",
        "standard=StandardScaler()\n",
        "bank_data_standard['Avg_Account_Balance']=standard.fit_transform(np.array(bank_data_standard['Avg_Account_Balance']).reshape(-1,1))"
      ],
      "execution_count": null,
      "outputs": []
    },
    {
      "cell_type": "code",
      "metadata": {
        "colab": {
          "base_uri": "https://localhost:8080/",
          "height": 298
        },
        "id": "YXIL956mqfMk",
        "outputId": "fec6e4bc-ca3e-45f3-994f-d6442b2abe80"
      },
      "source": [
        "sns.boxplot(bank_data_standard['Avg_Account_Balance'])"
      ],
      "execution_count": null,
      "outputs": [
        {
          "output_type": "execute_result",
          "data": {
            "text/plain": [
              "<matplotlib.axes._subplots.AxesSubplot at 0x7f129ebb2c50>"
            ]
          },
          "metadata": {
            "tags": []
          },
          "execution_count": 63
        },
        {
          "output_type": "display_data",
          "data": {
            "image/png": "[encoded data removed]",
            "text/plain": [
              "<Figure size 432x288 with 1 Axes>"
            ]
          },
          "metadata": {
            "tags": [],
            "needs_background": "light"
          }
        }
      ]
    },
    {
      "cell_type": "code",
      "metadata": {
        "id": "ADszaOA-qfMk"
      },
      "source": [
        "bank_data_minmax=bank_data.copy(deep=True)\n",
        "from sklearn.preprocessing import MinMaxScaler\n",
        "minmax=MinMaxScaler()\n",
        "bank_data_minmax['Avg_Account_Balance']=minmax.fit_transform(np.array(bank_data_minmax['Avg_Account_Balance']).reshape(-1,1))"
      ],
      "execution_count": null,
      "outputs": []
    },
    {
      "cell_type": "code",
      "metadata": {
        "colab": {
          "base_uri": "https://localhost:8080/"
        },
        "id": "3s6kSjJrqfMk",
        "outputId": "6740a321-2776-4d65-9743-4097489232ee"
      },
      "source": [
        "def removeoutliers(col):\n",
        "    sorted(col)\n",
        "    quat1,quant2=col.quantile([.25,0.75])\n",
        "    IQR=quant2-quat1\n",
        "    lowerRange=quat1-1.5*IQR\n",
        "    upperRange=quant2+1.5*IQR\n",
        "    return lowerRange,upperRange\n",
        "lowerRange,upperRange=removeoutliers(bank_data_minmax['Avg_Account_Balance'])\n",
        "sum(bank_data_minmax['Avg_Account_Balance']>upperRange)"
      ],
      "execution_count": null,
      "outputs": [
        {
          "output_type": "execute_result",
          "data": {
            "text/plain": [
              "14612"
            ]
          },
          "metadata": {
            "tags": []
          },
          "execution_count": 65
        }
      ]
    },
    {
      "cell_type": "code",
      "metadata": {
        "colab": {
          "base_uri": "https://localhost:8080/"
        },
        "id": "isco8KnKqfMl",
        "outputId": "be294817-2671-48b0-a3f0-ff095ba1c240"
      },
      "source": [
        "def removeoutliers(col):\n",
        "    sorted(col)\n",
        "    quat1,quant2=col.quantile([.25,0.75])\n",
        "    IQR=quant2-quat1\n",
        "    lowerRange=quat1-1.5*IQR\n",
        "    upperRange=quant2+1.5*IQR\n",
        "    return lowerRange,upperRange\n",
        "lowerRange,upperRange=removeoutliers(bank_data['Avg_Account_Balance'])\n",
        "sum(bank_data['Avg_Account_Balance']>upperRange)"
      ],
      "execution_count": null,
      "outputs": [
        {
          "output_type": "execute_result",
          "data": {
            "text/plain": [
              "14612"
            ]
          },
          "metadata": {
            "tags": []
          },
          "execution_count": 66
        }
      ]
    },
    {
      "cell_type": "code",
      "metadata": {
        "colab": {
          "base_uri": "https://localhost:8080/",
          "height": 298
        },
        "id": "zC7LEBd4qfMl",
        "outputId": "b2e9ad74-ace1-4642-d7b2-29c8faab8420"
      },
      "source": [
        "sns.boxplot(bank_data_minmax['Avg_Account_Balance'])"
      ],
      "execution_count": null,
      "outputs": [
        {
          "output_type": "execute_result",
          "data": {
            "text/plain": [
              "<matplotlib.axes._subplots.AxesSubplot at 0x7f129eb5ea50>"
            ]
          },
          "metadata": {
            "tags": []
          },
          "execution_count": 67
        },
        {
          "output_type": "display_data",
          "data": {
            "image/png": "[encoded data removed]",
            "text/plain": [
              "<Figure size 432x288 with 1 Axes>"
            ]
          },
          "metadata": {
            "tags": [],
            "needs_background": "light"
          }
        }
      ]
    },
    {
      "cell_type": "markdown",
      "metadata": {
        "id": "sz5UBAWyqfMl"
      },
      "source": [
        "observation  \n",
        "- Scaling didnot remove the outliers from the data"
      ]
    },
    {
      "cell_type": "markdown",
      "metadata": {
        "id": "slL5upiOqfMl"
      },
      "source": [
        "**Using Log Tranformation**"
      ]
    },
    {
      "cell_type": "code",
      "metadata": {
        "id": "O2K7R_t1qfMl"
      },
      "source": [
        "bank_data_log=bank_data.copy(deep=True)\n",
        "bank_data_log['Avg_Account_Balance']=np.log(bank_data_log['Avg_Account_Balance'])"
      ],
      "execution_count": null,
      "outputs": []
    },
    {
      "cell_type": "code",
      "metadata": {
        "colab": {
          "base_uri": "https://localhost:8080/",
          "height": 298
        },
        "id": "5U2WMds0qfMm",
        "outputId": "acd619fd-24e7-473f-b1e4-bc6413d1986e"
      },
      "source": [
        "sns.boxplot(bank_data_log['Avg_Account_Balance'])"
      ],
      "execution_count": null,
      "outputs": [
        {
          "output_type": "execute_result",
          "data": {
            "text/plain": [
              "<matplotlib.axes._subplots.AxesSubplot at 0x7f129e5c1150>"
            ]
          },
          "metadata": {
            "tags": []
          },
          "execution_count": 69
        },
        {
          "output_type": "display_data",
          "data": {
            "image/png": "[encoded data removed]",
            "text/plain": [
              "<Figure size 432x288 with 1 Axes>"
            ]
          },
          "metadata": {
            "tags": [],
            "needs_background": "light"
          }
        }
      ]
    },
    {
      "cell_type": "markdown",
      "metadata": {
        "id": "gLRgurYTqfMm"
      },
      "source": [
        "Observation  \n",
        "- using log transormation also didnot treat outliers"
      ]
    },
    {
      "cell_type": "markdown",
      "metadata": {
        "id": "tvk76WtpqfMn"
      },
      "source": [
        "**Using BOX-COX Transformation**"
      ]
    },
    {
      "cell_type": "code",
      "metadata": {
        "id": "LkpBlQv8qfMn"
      },
      "source": [
        "bank_data_box=bank_data.copy(deep=True)\n",
        "bank_data_box['Avg_Account_Balance'],lamda=stats.boxcox(bank_data_box['Avg_Account_Balance'])"
      ],
      "execution_count": null,
      "outputs": []
    },
    {
      "cell_type": "code",
      "metadata": {
        "colab": {
          "base_uri": "https://localhost:8080/",
          "height": 298
        },
        "id": "UYxHUgamqfMn",
        "outputId": "0e839dae-ed66-4160-8fce-21293d1d04c6"
      },
      "source": [
        "sns.boxplot(bank_data_box['Avg_Account_Balance'])"
      ],
      "execution_count": null,
      "outputs": [
        {
          "output_type": "execute_result",
          "data": {
            "text/plain": [
              "<matplotlib.axes._subplots.AxesSubplot at 0x7f129e47c790>"
            ]
          },
          "metadata": {
            "tags": []
          },
          "execution_count": 71
        },
        {
          "output_type": "display_data",
          "data": {
            "image/png": "[encoded data removed]",
            "text/plain": [
              "<Figure size 432x288 with 1 Axes>"
            ]
          },
          "metadata": {
            "tags": [],
            "needs_background": "light"
          }
        }
      ]
    },
    {
      "cell_type": "markdown",
      "metadata": {
        "id": "Ug1d6T-PqfMo"
      },
      "source": [
        "observation  \n",
        "- Box-Cox Transformation also didnot treat outliers."
      ]
    },
    {
      "cell_type": "markdown",
      "metadata": {
        "id": "ZgDJfwjPqfMo"
      },
      "source": [
        "As any of the above methods didnot treat outliers Impuations are used  \n",
        "**75%le + IQR Imputaion**"
      ]
    },
    {
      "cell_type": "code",
      "metadata": {
        "id": "I5ABSMCAqfMo"
      },
      "source": [
        "def removeoutliers(col):\n",
        "    sorted(col)\n",
        "    quat1,quant2=col.quantile([.25,0.75])\n",
        "    IQR=quant2-quat1\n",
        "    lowerRange=quat1-1.5*IQR\n",
        "    upperRange=quant2+1.5*IQR\n",
        "    return lowerRange,upperRange\n",
        "bank_data_imput=bank_data.copy(deep=True)\n",
        "lowerRange,upperRange=removeoutliers(bank_data_imput['Avg_Account_Balance'])\n",
        "bank_data_imput[bank_data_imput['Avg_Account_Balance']>upperRange]['Avg_Account_Balance']=upperRange"
      ],
      "execution_count": null,
      "outputs": []
    },
    {
      "cell_type": "code",
      "metadata": {
        "colab": {
          "base_uri": "https://localhost:8080/"
        },
        "id": "LZShCx4zqfMo",
        "outputId": "7742877c-e427-4808-b096-966acde559a5"
      },
      "source": [
        "bank_data_imput['Avg_Account_Balance']"
      ],
      "execution_count": null,
      "outputs": [
        {
          "output_type": "execute_result",
          "data": {
            "text/plain": [
              "ID\n",
              "NNVBBKZB    1045696\n",
              "IDD62UNG     581988\n",
              "HD3DSEMC    1484315\n",
              "BF3NC7KV     470454\n",
              "TEASRWXV     886787\n",
              "             ...   \n",
              "BPAWWXZN    1925586\n",
              "HFNB7JY8     862952\n",
              "GEHAUCWT     670659\n",
              "GE7V8SAH     407504\n",
              "BOCZSWLJ    1129276\n",
              "Name: Avg_Account_Balance, Length: 245725, dtype: int64"
            ]
          },
          "metadata": {
            "tags": []
          },
          "execution_count": 73
        }
      ]
    },
    {
      "cell_type": "code",
      "metadata": {
        "colab": {
          "base_uri": "https://localhost:8080/",
          "height": 298
        },
        "id": "RS9T4rEyqfMp",
        "outputId": "95c3ca61-bc3f-41f7-e93d-868e7abbb3d5"
      },
      "source": [
        "sns.boxplot(bank_data_imput['Avg_Account_Balance'])"
      ],
      "execution_count": null,
      "outputs": [
        {
          "output_type": "execute_result",
          "data": {
            "text/plain": [
              "<matplotlib.axes._subplots.AxesSubplot at 0x7f129e77b650>"
            ]
          },
          "metadata": {
            "tags": []
          },
          "execution_count": 74
        },
        {
          "output_type": "display_data",
          "data": {
            "image/png": "[encoded data removed]",
            "text/plain": [
              "<Figure size 432x288 with 1 Axes>"
            ]
          },
          "metadata": {
            "tags": [],
            "needs_background": "light"
          }
        }
      ]
    },
    {
      "cell_type": "markdown",
      "metadata": {
        "id": "OnSXC2VuqfMp"
      },
      "source": [
        "**Median Imputaution for outlier treatment**"
      ]
    },
    {
      "cell_type": "code",
      "metadata": {
        "id": "W02mv1ojqfMp"
      },
      "source": [
        "def removeoutliers(col):\n",
        "    sorted(col)\n",
        "    quat1,quant2=col.quantile([.25,0.75])\n",
        "    IQR=quant2-quat1\n",
        "    lowerRange=quat1-1.5*IQR\n",
        "    upperRange=quant2+1.5*IQR\n",
        "    return lowerRange,upperRange\n",
        "bank_data_imp=bank_data.copy(deep=True)\n",
        "lowerRange,upperRange=removeoutliers(bank_data_imp['Avg_Account_Balance'])"
      ],
      "execution_count": null,
      "outputs": []
    },
    {
      "cell_type": "code",
      "metadata": {
        "id": "VXpADxobqfMp"
      },
      "source": [
        "bank_data_imp[bank_data_imp['Avg_Account_Balance']>upperRange]['Avg_Account_Balance']=bank_data_imp['Avg_Account_Balance'].median()"
      ],
      "execution_count": null,
      "outputs": []
    },
    {
      "cell_type": "code",
      "metadata": {
        "colab": {
          "base_uri": "https://localhost:8080/",
          "height": 298
        },
        "id": "llVQYO1XqfMp",
        "scrolled": true,
        "outputId": "dccdb688-f1b8-488a-f18f-08d88b05f56e"
      },
      "source": [
        "sns.boxplot(bank_data_imp['Avg_Account_Balance'])"
      ],
      "execution_count": null,
      "outputs": [
        {
          "output_type": "execute_result",
          "data": {
            "text/plain": [
              "<matplotlib.axes._subplots.AxesSubplot at 0x7f129e61a350>"
            ]
          },
          "metadata": {
            "tags": []
          },
          "execution_count": 77
        },
        {
          "output_type": "display_data",
          "data": {
            "image/png": "[encoded data removed]",
            "text/plain": [
              "<Figure size 432x288 with 1 Axes>"
            ]
          },
          "metadata": {
            "tags": [],
            "needs_background": "light"
          }
        }
      ]
    },
    {
      "cell_type": "markdown",
      "metadata": {
        "id": "mWgxWyNKqfMp"
      },
      "source": [
        "observation  \n",
        "- Not able to remove the outliers "
      ]
    },
    {
      "cell_type": "markdown",
      "metadata": {
        "id": "QQeUnPfFqfMq"
      },
      "source": [
        "**Missing value treatment**"
      ]
    },
    {
      "cell_type": "code",
      "metadata": {
        "id": "h2kcgdI6qfMq"
      },
      "source": [
        "bank_data['Credit_Product'].fillna('Yes',inplace=True)"
      ],
      "execution_count": null,
      "outputs": []
    },
    {
      "cell_type": "code",
      "metadata": {
        "colab": {
          "base_uri": "https://localhost:8080/"
        },
        "id": "xgBMFI1zqfMq",
        "outputId": "cc39e666-8ee3-4520-e03d-fba0ca054de2"
      },
      "source": [
        "bank_data['Credit_Product'].isnull().sum()"
      ],
      "execution_count": null,
      "outputs": [
        {
          "output_type": "execute_result",
          "data": {
            "text/plain": [
              "0"
            ]
          },
          "metadata": {
            "tags": []
          },
          "execution_count": 79
        }
      ]
    },
    {
      "cell_type": "markdown",
      "metadata": {
        "id": "Rda-HCGSqfMr"
      },
      "source": [
        "obesrvation  \n",
        "- As the 'Credit_product' is categorical feature we imputed mode in place of missing values."
      ]
    },
    {
      "cell_type": "markdown",
      "metadata": {
        "id": "bUEc94ArqfMr"
      },
      "source": [
        "**Data Preperation**  \n",
        "- Scaling Continous Features\n",
        "- Creating Dummies for Categorical columns"
      ]
    },
    {
      "cell_type": "code",
      "metadata": {
        "id": "GwtRwiMrqfMr"
      },
      "source": [
        "bank_data['Avg_Account_Balance']=np.log(bank_data['Avg_Account_Balance'])"
      ],
      "execution_count": null,
      "outputs": []
    },
    {
      "cell_type": "code",
      "metadata": {
        "colab": {
          "base_uri": "https://localhost:8080/",
          "height": 387
        },
        "id": "iozkNSfdT7Vw",
        "outputId": "d4608ed6-6158-49ae-d317-e329629df1cd"
      },
      "source": [
        "sns.displot(bank_data['Avg_Account_Balance'],kde=True)"
      ],
      "execution_count": null,
      "outputs": [
        {
          "output_type": "execute_result",
          "data": {
            "text/plain": [
              "<seaborn.axisgrid.FacetGrid at 0x7f129e455290>"
            ]
          },
          "metadata": {
            "tags": []
          },
          "execution_count": 81
        },
        {
          "output_type": "display_data",
          "data": {
            "image/png": "[encoded data removed]",
            "text/plain": [
              "<Figure size 360x360 with 1 Axes>"
            ]
          },
          "metadata": {
            "tags": [],
            "needs_background": "light"
          }
        }
      ]
    },
    {
      "cell_type": "code",
      "metadata": {
        "id": "6X7iiMuDyV6z"
      },
      "source": [
        "from sklearn.preprocessing import LabelEncoder\n",
        "label=LabelEncoder()\n",
        "for col in categ_cols:\n",
        "  bank_data[col]=label.fit_transform(bank_data[col])"
      ],
      "execution_count": null,
      "outputs": []
    },
    {
      "cell_type": "code",
      "metadata": {
        "colab": {
          "base_uri": "https://localhost:8080/"
        },
        "id": "3zXwTKh5yv8i",
        "outputId": "63eb57c4-8ee8-464c-bc93-7865767fde24"
      },
      "source": [
        "bank_data[categ_cols].dtypes"
      ],
      "execution_count": null,
      "outputs": [
        {
          "output_type": "execute_result",
          "data": {
            "text/plain": [
              "Gender            int64\n",
              "Region_Code       int64\n",
              "Occupation        int64\n",
              "Channel_Code      int64\n",
              "Credit_Product    int64\n",
              "Is_Active         int64\n",
              "dtype: object"
            ]
          },
          "metadata": {
            "tags": []
          },
          "execution_count": 83
        }
      ]
    },
    {
      "cell_type": "markdown",
      "metadata": {
        "id": "fywtOiV7qfMs"
      },
      "source": [
        "**Train-Test split**"
      ]
    },
    {
      "cell_type": "code",
      "metadata": {
        "id": "eiR9vDgWqfMs"
      },
      "source": [
        "output=bank_data['Is_Lead']\n",
        "bank_data.drop('Is_Lead',inplace=True,axis=1)"
      ],
      "execution_count": null,
      "outputs": []
    },
    {
      "cell_type": "code",
      "metadata": {
        "colab": {
          "base_uri": "https://localhost:8080/",
          "height": 238
        },
        "id": "T2yjZiwNqfMs",
        "outputId": "ecf3b345-ff10-48a8-f6a7-572dc1b378d7"
      },
      "source": [
        "bank_data.head()"
      ],
      "execution_count": null,
      "outputs": [
        {
          "output_type": "execute_result",
          "data": {
            "text/html": [
              "<div>\n",
              "<style scoped>\n",
              "    .dataframe tbody tr th:only-of-type {\n",
              "        vertical-align: middle;\n",
              "    }\n",
              "\n",
              "    .dataframe tbody tr th {\n",
              "        vertical-align: top;\n",
              "    }\n",
              "\n",
              "    .dataframe thead th {\n",
              "        text-align: right;\n",
              "    }\n",
              "</style>\n",
              "<table border=\"1\" class=\"dataframe\">\n",
              "  <thead>\n",
              "    <tr style=\"text-align: right;\">\n",
              "      <th></th>\n",
              "      <th>Gender</th>\n",
              "      <th>Age</th>\n",
              "      <th>Region_Code</th>\n",
              "      <th>Occupation</th>\n",
              "      <th>Channel_Code</th>\n",
              "      <th>Vintage</th>\n",
              "      <th>Credit_Product</th>\n",
              "      <th>Avg_Account_Balance</th>\n",
              "      <th>Is_Active</th>\n",
              "    </tr>\n",
              "    <tr>\n",
              "      <th>ID</th>\n",
              "      <th></th>\n",
              "      <th></th>\n",
              "      <th></th>\n",
              "      <th></th>\n",
              "      <th></th>\n",
              "      <th></th>\n",
              "      <th></th>\n",
              "      <th></th>\n",
              "      <th></th>\n",
              "    </tr>\n",
              "  </thead>\n",
              "  <tbody>\n",
              "    <tr>\n",
              "      <th>NNVBBKZB</th>\n",
              "      <td>0</td>\n",
              "      <td>73</td>\n",
              "      <td>18</td>\n",
              "      <td>1</td>\n",
              "      <td>2</td>\n",
              "      <td>43</td>\n",
              "      <td>0</td>\n",
              "      <td>13.860193</td>\n",
              "      <td>0</td>\n",
              "    </tr>\n",
              "    <tr>\n",
              "      <th>IDD62UNG</th>\n",
              "      <td>0</td>\n",
              "      <td>30</td>\n",
              "      <td>27</td>\n",
              "      <td>2</td>\n",
              "      <td>0</td>\n",
              "      <td>32</td>\n",
              "      <td>0</td>\n",
              "      <td>13.274205</td>\n",
              "      <td>0</td>\n",
              "    </tr>\n",
              "    <tr>\n",
              "      <th>HD3DSEMC</th>\n",
              "      <td>0</td>\n",
              "      <td>56</td>\n",
              "      <td>18</td>\n",
              "      <td>3</td>\n",
              "      <td>2</td>\n",
              "      <td>26</td>\n",
              "      <td>0</td>\n",
              "      <td>14.210464</td>\n",
              "      <td>1</td>\n",
              "    </tr>\n",
              "    <tr>\n",
              "      <th>BF3NC7KV</th>\n",
              "      <td>1</td>\n",
              "      <td>34</td>\n",
              "      <td>20</td>\n",
              "      <td>2</td>\n",
              "      <td>0</td>\n",
              "      <td>19</td>\n",
              "      <td>0</td>\n",
              "      <td>13.061453</td>\n",
              "      <td>0</td>\n",
              "    </tr>\n",
              "    <tr>\n",
              "      <th>TEASRWXV</th>\n",
              "      <td>0</td>\n",
              "      <td>30</td>\n",
              "      <td>32</td>\n",
              "      <td>2</td>\n",
              "      <td>0</td>\n",
              "      <td>33</td>\n",
              "      <td>0</td>\n",
              "      <td>13.695360</td>\n",
              "      <td>0</td>\n",
              "    </tr>\n",
              "  </tbody>\n",
              "</table>\n",
              "</div>"
            ],
            "text/plain": [
              "          Gender  Age  ...  Avg_Account_Balance  Is_Active\n",
              "ID                     ...                                \n",
              "NNVBBKZB       0   73  ...            13.860193          0\n",
              "IDD62UNG       0   30  ...            13.274205          0\n",
              "HD3DSEMC       0   56  ...            14.210464          1\n",
              "BF3NC7KV       1   34  ...            13.061453          0\n",
              "TEASRWXV       0   30  ...            13.695360          0\n",
              "\n",
              "[5 rows x 9 columns]"
            ]
          },
          "metadata": {
            "tags": []
          },
          "execution_count": 85
        }
      ]
    },
    {
      "cell_type": "markdown",
      "metadata": {
        "id": "UUyr0yVpqfMt"
      },
      "source": [
        "**Model Building**  "
      ]
    },
    {
      "cell_type": "code",
      "metadata": {
        "id": "s0PHGcf3QJBW"
      },
      "source": [
        "from sklearn.model_selection import KFold, StratifiedKFold\n",
        "from sklearn.metrics import roc_auc_score\n",
        "\n",
        "def cross_validation(x,y,model,params,k_folds=5):\n",
        "    skf = StratifiedKFold(n_splits=k_folds, shuffle=True, random_state=21)\n",
        "    for fold, (train_idx, test_idx) in enumerate(skf.split(x, y)):\n",
        "        print(f\"Fold: {fold}\")\n",
        "        x_train, y_train = x.iloc[train_idx], y.iloc[train_idx]\n",
        "        x_test, y_test = x.iloc[test_idx], y.iloc[test_idx]\n",
        "        alg = model(**params)\n",
        "        alg.fit(x_train, y_train,\n",
        "                eval_set=[(x_test, y_test)],\n",
        "                early_stopping_rounds=100,\n",
        "                verbose=400)\n",
        "\n",
        "        pred = alg.predict_proba(x_test)[:, 1]\n",
        "        roc_score = roc_auc_score(y_test, pred)\n",
        "        print(f\"roc_auc_score: {roc_score}\")\n",
        "        print(\"-\"*50)\n",
        "    \n",
        "    return alg"
      ],
      "execution_count": null,
      "outputs": []
    },
    {
      "cell_type": "code",
      "metadata": {
        "id": "Hp-ik7ibRQrE"
      },
      "source": [
        "def cross_validation_GB(x,y,model,params,k_folds=5):\n",
        "    skf = StratifiedKFold(n_splits=k_folds, shuffle=True, random_state=21)\n",
        "    for fold, (train_idx, test_idx) in enumerate(skf.split(x, y)):\n",
        "        print(f\"Fold: {fold}\")\n",
        "        x_train, y_train = x.iloc[train_idx], y.iloc[train_idx]\n",
        "        x_test, y_test = x.iloc[test_idx], y.iloc[test_idx]\n",
        "        alg = model(**params)\n",
        "        alg.fit(x_train, y_train)\n",
        "\n",
        "        pred = alg.predict_proba(x_test)[:, 1]\n",
        "        roc_score = roc_auc_score(y_test, pred)\n",
        "        print(f\"roc_auc_score: {roc_score}\")\n",
        "        print(\"-\"*50)\n",
        "    \n",
        "    return alg"
      ],
      "execution_count": null,
      "outputs": []
    },
    {
      "cell_type": "code",
      "metadata": {
        "id": "ydkMreI0SAh0"
      },
      "source": [
        "def cross_validation_RF(x,y,model,params,k_folds=5):\n",
        "    skf = StratifiedKFold(n_splits=k_folds, shuffle=True, random_state=21)\n",
        "    for fold, (train_idx, test_idx) in enumerate(skf.split(x, y)):\n",
        "        print(f\"Fold: {fold}\")\n",
        "        x_train, y_train = x.iloc[train_idx], y.iloc[train_idx]\n",
        "        x_test, y_test = x.iloc[test_idx], y.iloc[test_idx]\n",
        "        alg = model(**params)\n",
        "        alg.fit(x_train, y_train)\n",
        "\n",
        "        pred = alg.predict_proba(x_test)[:, 1]\n",
        "        roc_score = roc_auc_score(y_test, pred)\n",
        "        print(f\"roc_auc_score: {roc_score}\")\n",
        "        print(\"-\"*50)\n",
        "    \n",
        "    return alg"
      ],
      "execution_count": null,
      "outputs": []
    },
    {
      "cell_type": "markdown",
      "metadata": {
        "id": "4P9fZubBRKan"
      },
      "source": [
        "**Random_Forest**  \n",
        "For Feature Selction\n"
      ]
    },
    {
      "cell_type": "code",
      "metadata": {
        "id": "EUgZ2al8SSxe"
      },
      "source": [
        "rf_params={\n",
        "    'n_estimators':20000,\n",
        "    'criterion':'gini',\n",
        "    'max_depth':6,\n",
        "    'max_features':'sqrt',\n",
        "    'n_jobs':-1,\n",
        "    'warm_start':True,\n",
        "    'max_samples':0.1\n",
        "}"
      ],
      "execution_count": null,
      "outputs": []
    },
    {
      "cell_type": "code",
      "metadata": {
        "colab": {
          "base_uri": "https://localhost:8080/"
        },
        "id": "uY-QqFB3BY5p",
        "outputId": "b86cd5fd-34a9-46f3-b1e5-99045ac6c9f8"
      },
      "source": [
        "from sklearn.feature_selection import SelectFromModel\n",
        "SFM= SelectFromModel(estimator=RF,threshold=0.006)\n",
        "SFM.fit(bank_data,output)\n",
        "SFM.get_support()"
      ],
      "execution_count": null,
      "outputs": [
        {
          "output_type": "execute_result",
          "data": {
            "text/plain": [
              "array([False,  True, False,  True,  True,  True,  True,  True,  True])"
            ]
          },
          "metadata": {
            "tags": []
          },
          "execution_count": 91
        }
      ]
    },
    {
      "cell_type": "markdown",
      "metadata": {
        "id": "h19STMj7qfMy"
      },
      "source": [
        "**XG_Boost**"
      ]
    },
    {
      "cell_type": "code",
      "metadata": {
        "id": "-xvTkZnkDxXH"
      },
      "source": [
        "from sklearn.model_selection import cross_val_score,GridSearchCV\n",
        "from xgboost import XGBClassifier"
      ],
      "execution_count": null,
      "outputs": []
    },
    {
      "cell_type": "code",
      "metadata": {
        "id": "dyfWAVJWpf67"
      },
      "source": [
        "xgb_params= {'n_estimators': 40000, \n",
        "             'max_depth': 6,'learning_rate': 0.02,'booster': 'gbtree',\n",
        "         'objective': 'binary:logistic',}"
      ],
      "execution_count": null,
      "outputs": []
    },
    {
      "cell_type": "code",
      "metadata": {
        "colab": {
          "base_uri": "https://localhost:8080/"
        },
        "id": "id2JZPplqfMy",
        "outputId": "be3b350c-c84f-4597-e770-081f04442aea"
      },
      "source": [
        "from xgboost import XGBClassifier\n",
        "XG=cross_validation(bank_data.iloc[:,[False,  True, True,  True,  True,  True,  True,  True,  True]],output,XGBClassifier,params=xgb_params)"
      ],
      "execution_count": null,
      "outputs": [
        {
          "output_type": "stream",
          "text": [
            "Fold: 0\n",
            "[0]\tvalidation_0-error:0.181483\n",
            "Will train until validation_0-error hasn't improved in 100 rounds.\n",
            "[400]\tvalidation_0-error:0.174178\n",
            "Stopping. Best iteration:\n",
            "[329]\tvalidation_0-error:0.173792\n",
            "\n",
            "roc_auc_score: 0.8510026082156019\n",
            "--------------------------------------------------\n",
            "Fold: 1\n",
            "[0]\tvalidation_0-error:0.184291\n",
            "Will train until validation_0-error hasn't improved in 100 rounds.\n",
            "[400]\tvalidation_0-error:0.176417\n",
            "Stopping. Best iteration:\n",
            "[345]\tvalidation_0-error:0.176132\n",
            "\n",
            "roc_auc_score: 0.8485376622741119\n",
            "--------------------------------------------------\n",
            "Fold: 2\n",
            "[0]\tvalidation_0-error:0.180853\n",
            "Will train until validation_0-error hasn't improved in 100 rounds.\n",
            "[400]\tvalidation_0-error:0.173609\n",
            "Stopping. Best iteration:\n",
            "[303]\tvalidation_0-error:0.173202\n",
            "\n",
            "roc_auc_score: 0.8516549201344222\n",
            "--------------------------------------------------\n",
            "Fold: 3\n",
            "[0]\tvalidation_0-error:0.180547\n",
            "Will train until validation_0-error hasn't improved in 100 rounds.\n",
            "Stopping. Best iteration:\n",
            "[207]\tvalidation_0-error:0.174341\n",
            "\n",
            "roc_auc_score: 0.8511744665067695\n",
            "--------------------------------------------------\n",
            "Fold: 4\n",
            "[0]\tvalidation_0-error:0.183437\n",
            "Will train until validation_0-error hasn't improved in 100 rounds.\n",
            "[400]\tvalidation_0-error:0.17605\n",
            "Stopping. Best iteration:\n",
            "[334]\tvalidation_0-error:0.175582\n",
            "\n",
            "roc_auc_score: 0.8496536442120317\n",
            "--------------------------------------------------\n"
          ],
          "name": "stdout"
        }
      ]
    },
    {
      "cell_type": "markdown",
      "metadata": {
        "id": "bNwF-APURTqV"
      },
      "source": [
        "**Gradient_Boost**"
      ]
    },
    {
      "cell_type": "code",
      "metadata": {
        "id": "1PLJbT48obBf"
      },
      "source": [
        "gb_params={'learning_rate':0.02, 'n_estimators':40000,'subsample':0.7, 'max_depth':6,'loss':'exponential','max_features':'log2','n_iter_no_change':100,\n",
        "           'warm_start':True}"
      ],
      "execution_count": null,
      "outputs": []
    },
    {
      "cell_type": "code",
      "metadata": {
        "colab": {
          "base_uri": "https://localhost:8080/"
        },
        "id": "rdW0DTw6oPWY",
        "outputId": "b9b07670-f256-4b0d-f82e-b97224381589"
      },
      "source": [
        "from sklearn.ensemble import GradientBoostingClassifier\n",
        "GB=cross_validation_GB(bank_data.iloc[:,[False,  True, True,  True,  True,  True,  True,  True,  True]],output,GradientBoostingClassifier,params=gb_params)"
      ],
      "execution_count": 97,
      "outputs": [
        {
          "output_type": "stream",
          "text": [
            "Fold: 0\n",
            "roc_auc_score: 0.8503836414521767\n",
            "--------------------------------------------------\n",
            "Fold: 1\n",
            "roc_auc_score: 0.8483312481045663\n",
            "--------------------------------------------------\n",
            "Fold: 2\n",
            "roc_auc_score: 0.8514328771276038\n",
            "--------------------------------------------------\n",
            "Fold: 3\n",
            "roc_auc_score: 0.8518699589403722\n",
            "--------------------------------------------------\n",
            "Fold: 4\n",
            "roc_auc_score: 0.8498091370136696\n",
            "--------------------------------------------------\n"
          ],
          "name": "stdout"
        }
      ]
    },
    {
      "cell_type": "code",
      "metadata": {
        "id": "5GxXOw4pRW1F"
      },
      "source": [
        "**LGBM_Boosting**"
      ],
      "execution_count": null,
      "outputs": []
    },
    {
      "cell_type": "code",
      "metadata": {
        "id": "LSPPuNeilXPQ"
      },
      "source": [
        "lgb_params= {'learning_rate': 0.02, \n",
        "             'n_estimators': 40000              \n",
        "}"
      ],
      "execution_count": 98,
      "outputs": []
    },
    {
      "cell_type": "code",
      "metadata": {
        "id": "IPfFPfPilWA7",
        "colab": {
          "base_uri": "https://localhost:8080/"
        },
        "outputId": "86093342-93cd-4e0f-a8d4-8d015c37dccd"
      },
      "source": [
        "from lightgbm import LGBMClassifier\n",
        "LGBM=cross_validation(bank_data.iloc[:,[False,  True, True,  True,  True,  True,  True,  True,  True]],output,LGBMClassifier,lgb_params)"
      ],
      "execution_count": 99,
      "outputs": [
        {
          "output_type": "stream",
          "text": [
            "Fold: 0\n",
            "Training until validation scores don't improve for 100 rounds.\n",
            "[400]\tvalid_0's binary_logloss: 0.381347\n",
            "Early stopping, best iteration is:\n",
            "[575]\tvalid_0's binary_logloss: 0.381307\n",
            "roc_auc_score: 0.8512890983368661\n",
            "--------------------------------------------------\n",
            "Fold: 1\n",
            "Training until validation scores don't improve for 100 rounds.\n",
            "[400]\tvalid_0's binary_logloss: 0.383043\n",
            "Early stopping, best iteration is:\n",
            "[569]\tvalid_0's binary_logloss: 0.382935\n",
            "roc_auc_score: 0.8488115161708343\n",
            "--------------------------------------------------\n",
            "Fold: 2\n",
            "Training until validation scores don't improve for 100 rounds.\n",
            "[400]\tvalid_0's binary_logloss: 0.382012\n",
            "Early stopping, best iteration is:\n",
            "[511]\tvalid_0's binary_logloss: 0.381874\n",
            "roc_auc_score: 0.851821360861266\n",
            "--------------------------------------------------\n",
            "Fold: 3\n",
            "Training until validation scores don't improve for 100 rounds.\n",
            "[400]\tvalid_0's binary_logloss: 0.381233\n",
            "Early stopping, best iteration is:\n",
            "[684]\tvalid_0's binary_logloss: 0.38113\n",
            "roc_auc_score: 0.8511998312786175\n",
            "--------------------------------------------------\n",
            "Fold: 4\n",
            "Training until validation scores don't improve for 100 rounds.\n",
            "[400]\tvalid_0's binary_logloss: 0.382434\n",
            "Early stopping, best iteration is:\n",
            "[596]\tvalid_0's binary_logloss: 0.38223\n",
            "roc_auc_score: 0.8497532590047812\n",
            "--------------------------------------------------\n"
          ],
          "name": "stdout"
        }
      ]
    },
    {
      "cell_type": "markdown",
      "metadata": {
        "id": "SasYFykxRfv5"
      },
      "source": [
        "**CAT_Boosting**"
      ]
    },
    {
      "cell_type": "code",
      "metadata": {
        "id": "RQ3MVBhMGy9L"
      },
      "source": [
        "cat_params={'learning_rate': 0.02, \n",
        "             'n_estimators': 40000,\n",
        "            'max_depth':14\n",
        "}"
      ],
      "execution_count": 104,
      "outputs": []
    },
    {
      "cell_type": "code",
      "metadata": {
        "colab": {
          "base_uri": "https://localhost:8080/"
        },
        "id": "VfzckTU3JREv",
        "outputId": "a8823337-fdff-4eec-f0bd-89af150036c4"
      },
      "source": [
        "!pip install catboost"
      ],
      "execution_count": 102,
      "outputs": [
        {
          "output_type": "stream",
          "text": [
            "Collecting catboost\n",
            "\u001b[?25l  Downloading https://files.pythonhosted.org/packages/47/80/8e9c57ec32dfed6ba2922bc5c96462cbf8596ce1a6f5de532ad1e43e53fe/catboost-0.25.1-cp37-none-manylinux1_x86_64.whl (67.3MB)\n",
            "\u001b[K     |████████████████████████████████| 67.3MB 55kB/s \n",
            "\u001b[?25hRequirement already satisfied: graphviz in /usr/local/lib/python3.7/dist-packages (from catboost) (0.10.1)\n",
            "Requirement already satisfied: numpy>=1.16.0 in /usr/local/lib/python3.7/dist-packages (from catboost) (1.19.5)\n",
            "Requirement already satisfied: matplotlib in /usr/local/lib/python3.7/dist-packages (from catboost) (3.2.2)\n",
            "Requirement already satisfied: six in /usr/local/lib/python3.7/dist-packages (from catboost) (1.15.0)\n",
            "Requirement already satisfied: plotly in /usr/local/lib/python3.7/dist-packages (from catboost) (4.4.1)\n",
            "Requirement already satisfied: pandas>=0.24.0 in /usr/local/lib/python3.7/dist-packages (from catboost) (1.1.5)\n",
            "Requirement already satisfied: scipy in /usr/local/lib/python3.7/dist-packages (from catboost) (1.4.1)\n",
            "Requirement already satisfied: python-dateutil>=2.1 in /usr/local/lib/python3.7/dist-packages (from matplotlib->catboost) (2.8.1)\n",
            "Requirement already satisfied: cycler>=0.10 in /usr/local/lib/python3.7/dist-packages (from matplotlib->catboost) (0.10.0)\n",
            "Requirement already satisfied: kiwisolver>=1.0.1 in /usr/local/lib/python3.7/dist-packages (from matplotlib->catboost) (1.3.1)\n",
            "Requirement already satisfied: pyparsing!=2.0.4,!=2.1.2,!=2.1.6,>=2.0.1 in /usr/local/lib/python3.7/dist-packages (from matplotlib->catboost) (2.4.7)\n",
            "Requirement already satisfied: retrying>=1.3.3 in /usr/local/lib/python3.7/dist-packages (from plotly->catboost) (1.3.3)\n",
            "Requirement already satisfied: pytz>=2017.2 in /usr/local/lib/python3.7/dist-packages (from pandas>=0.24.0->catboost) (2018.9)\n",
            "Installing collected packages: catboost\n",
            "Successfully installed catboost-0.25.1\n"
          ],
          "name": "stdout"
        }
      ]
    },
    {
      "cell_type": "code",
      "metadata": {
        "id": "dYlTSQ1f0iai",
        "colab": {
          "base_uri": "https://localhost:8080/"
        },
        "outputId": "0919fad8-8403-4ee4-9630-2e66f6b124a0"
      },
      "source": [
        "from catboost import CatBoostClassifier\n",
        "CAT = cross_validation(bank_data.iloc[:,[False,  True, True,  True,  True,  True,  True,  True,  True]],output,CatBoostClassifier, cat_params)"
      ],
      "execution_count": 105,
      "outputs": [
        {
          "output_type": "stream",
          "text": [
            "Fold: 0\n",
            "0:\tlearn: 0.6785897\ttest: 0.6785617\tbest: 0.6785617 (0)\ttotal: 139ms\tremaining: 1h 32m 33s\n",
            "Stopped by overfitting detector  (100 iterations wait)\n",
            "\n",
            "bestTest = 0.3829527622\n",
            "bestIteration = 196\n",
            "\n",
            "Shrink model to first 197 iterations.\n",
            "roc_auc_score: 0.8500746409106269\n",
            "--------------------------------------------------\n",
            "Fold: 1\n",
            "0:\tlearn: 0.6785251\ttest: 0.6784476\tbest: 0.6784476 (0)\ttotal: 68.9ms\tremaining: 45m 56s\n",
            "Stopped by overfitting detector  (100 iterations wait)\n",
            "\n",
            "bestTest = 0.384212067\n",
            "bestIteration = 198\n",
            "\n",
            "Shrink model to first 199 iterations.\n",
            "roc_auc_score: 0.8480659400210548\n",
            "--------------------------------------------------\n",
            "Fold: 2\n",
            "0:\tlearn: 0.6785770\ttest: 0.6786481\tbest: 0.6786481 (0)\ttotal: 70.9ms\tremaining: 47m 17s\n",
            "Stopped by overfitting detector  (100 iterations wait)\n",
            "\n",
            "bestTest = 0.3836928326\n",
            "bestIteration = 211\n",
            "\n",
            "Shrink model to first 212 iterations.\n",
            "roc_auc_score: 0.8499653242860566\n",
            "--------------------------------------------------\n",
            "Fold: 3\n",
            "0:\tlearn: 0.6785752\ttest: 0.6785533\tbest: 0.6785533 (0)\ttotal: 75.4ms\tremaining: 50m 15s\n",
            "Stopped by overfitting detector  (100 iterations wait)\n",
            "\n",
            "bestTest = 0.3827403757\n",
            "bestIteration = 202\n",
            "\n",
            "Shrink model to first 203 iterations.\n",
            "roc_auc_score: 0.8502645759651073\n",
            "--------------------------------------------------\n",
            "Fold: 4\n",
            "0:\tlearn: 0.6784902\ttest: 0.6785468\tbest: 0.6785468 (0)\ttotal: 68.6ms\tremaining: 45m 45s\n",
            "Stopped by overfitting detector  (100 iterations wait)\n",
            "\n",
            "bestTest = 0.3838532161\n",
            "bestIteration = 215\n",
            "\n",
            "Shrink model to first 216 iterations.\n",
            "roc_auc_score: 0.848994100650609\n",
            "--------------------------------------------------\n"
          ],
          "name": "stdout"
        }
      ]
    },
    {
      "cell_type": "markdown",
      "metadata": {
        "id": "Mmohlntdf8oZ"
      },
      "source": [
        "**Test Data**"
      ]
    },
    {
      "cell_type": "code",
      "metadata": {
        "id": "X6UMx-xLf8oZ",
        "colab": {
          "base_uri": "https://localhost:8080/",
          "height": 206
        },
        "outputId": "8f6c330e-fdbb-46bc-acfb-12b4797e6080"
      },
      "source": [
        "test_data=pd.read_csv('test_mSzZ8RL.csv')\n",
        "test_data.head()"
      ],
      "execution_count": 106,
      "outputs": [
        {
          "output_type": "execute_result",
          "data": {
            "text/html": [
              "<div>\n",
              "<style scoped>\n",
              "    .dataframe tbody tr th:only-of-type {\n",
              "        vertical-align: middle;\n",
              "    }\n",
              "\n",
              "    .dataframe tbody tr th {\n",
              "        vertical-align: top;\n",
              "    }\n",
              "\n",
              "    .dataframe thead th {\n",
              "        text-align: right;\n",
              "    }\n",
              "</style>\n",
              "<table border=\"1\" class=\"dataframe\">\n",
              "  <thead>\n",
              "    <tr style=\"text-align: right;\">\n",
              "      <th></th>\n",
              "      <th>ID</th>\n",
              "      <th>Gender</th>\n",
              "      <th>Age</th>\n",
              "      <th>Region_Code</th>\n",
              "      <th>Occupation</th>\n",
              "      <th>Channel_Code</th>\n",
              "      <th>Vintage</th>\n",
              "      <th>Credit_Product</th>\n",
              "      <th>Avg_Account_Balance</th>\n",
              "      <th>Is_Active</th>\n",
              "    </tr>\n",
              "  </thead>\n",
              "  <tbody>\n",
              "    <tr>\n",
              "      <th>0</th>\n",
              "      <td>VBENBARO</td>\n",
              "      <td>Male</td>\n",
              "      <td>29</td>\n",
              "      <td>RG254</td>\n",
              "      <td>Other</td>\n",
              "      <td>X1</td>\n",
              "      <td>25</td>\n",
              "      <td>Yes</td>\n",
              "      <td>742366</td>\n",
              "      <td>No</td>\n",
              "    </tr>\n",
              "    <tr>\n",
              "      <th>1</th>\n",
              "      <td>CCMEWNKY</td>\n",
              "      <td>Male</td>\n",
              "      <td>43</td>\n",
              "      <td>RG268</td>\n",
              "      <td>Other</td>\n",
              "      <td>X2</td>\n",
              "      <td>49</td>\n",
              "      <td>NaN</td>\n",
              "      <td>925537</td>\n",
              "      <td>No</td>\n",
              "    </tr>\n",
              "    <tr>\n",
              "      <th>2</th>\n",
              "      <td>VK3KGA9M</td>\n",
              "      <td>Male</td>\n",
              "      <td>31</td>\n",
              "      <td>RG270</td>\n",
              "      <td>Salaried</td>\n",
              "      <td>X1</td>\n",
              "      <td>14</td>\n",
              "      <td>No</td>\n",
              "      <td>215949</td>\n",
              "      <td>No</td>\n",
              "    </tr>\n",
              "    <tr>\n",
              "      <th>3</th>\n",
              "      <td>TT8RPZVC</td>\n",
              "      <td>Male</td>\n",
              "      <td>29</td>\n",
              "      <td>RG272</td>\n",
              "      <td>Other</td>\n",
              "      <td>X1</td>\n",
              "      <td>33</td>\n",
              "      <td>No</td>\n",
              "      <td>868070</td>\n",
              "      <td>No</td>\n",
              "    </tr>\n",
              "    <tr>\n",
              "      <th>4</th>\n",
              "      <td>SHQZEYTZ</td>\n",
              "      <td>Female</td>\n",
              "      <td>29</td>\n",
              "      <td>RG270</td>\n",
              "      <td>Other</td>\n",
              "      <td>X1</td>\n",
              "      <td>19</td>\n",
              "      <td>No</td>\n",
              "      <td>657087</td>\n",
              "      <td>No</td>\n",
              "    </tr>\n",
              "  </tbody>\n",
              "</table>\n",
              "</div>"
            ],
            "text/plain": [
              "         ID  Gender  Age  ... Credit_Product Avg_Account_Balance Is_Active\n",
              "0  VBENBARO    Male   29  ...            Yes              742366        No\n",
              "1  CCMEWNKY    Male   43  ...            NaN              925537        No\n",
              "2  VK3KGA9M    Male   31  ...             No              215949        No\n",
              "3  TT8RPZVC    Male   29  ...             No              868070        No\n",
              "4  SHQZEYTZ  Female   29  ...             No              657087        No\n",
              "\n",
              "[5 rows x 10 columns]"
            ]
          },
          "metadata": {
            "tags": []
          },
          "execution_count": 106
        }
      ]
    },
    {
      "cell_type": "code",
      "metadata": {
        "id": "bok8PTnbf8oZ",
        "colab": {
          "base_uri": "https://localhost:8080/",
          "height": 238
        },
        "outputId": "90be941a-a0ec-4386-fbaf-ca77ed532cd0"
      },
      "source": [
        "test_data.set_index('ID',inplace=True)\n",
        "test_data.head()"
      ],
      "execution_count": 107,
      "outputs": [
        {
          "output_type": "execute_result",
          "data": {
            "text/html": [
              "<div>\n",
              "<style scoped>\n",
              "    .dataframe tbody tr th:only-of-type {\n",
              "        vertical-align: middle;\n",
              "    }\n",
              "\n",
              "    .dataframe tbody tr th {\n",
              "        vertical-align: top;\n",
              "    }\n",
              "\n",
              "    .dataframe thead th {\n",
              "        text-align: right;\n",
              "    }\n",
              "</style>\n",
              "<table border=\"1\" class=\"dataframe\">\n",
              "  <thead>\n",
              "    <tr style=\"text-align: right;\">\n",
              "      <th></th>\n",
              "      <th>Gender</th>\n",
              "      <th>Age</th>\n",
              "      <th>Region_Code</th>\n",
              "      <th>Occupation</th>\n",
              "      <th>Channel_Code</th>\n",
              "      <th>Vintage</th>\n",
              "      <th>Credit_Product</th>\n",
              "      <th>Avg_Account_Balance</th>\n",
              "      <th>Is_Active</th>\n",
              "    </tr>\n",
              "    <tr>\n",
              "      <th>ID</th>\n",
              "      <th></th>\n",
              "      <th></th>\n",
              "      <th></th>\n",
              "      <th></th>\n",
              "      <th></th>\n",
              "      <th></th>\n",
              "      <th></th>\n",
              "      <th></th>\n",
              "      <th></th>\n",
              "    </tr>\n",
              "  </thead>\n",
              "  <tbody>\n",
              "    <tr>\n",
              "      <th>VBENBARO</th>\n",
              "      <td>Male</td>\n",
              "      <td>29</td>\n",
              "      <td>RG254</td>\n",
              "      <td>Other</td>\n",
              "      <td>X1</td>\n",
              "      <td>25</td>\n",
              "      <td>Yes</td>\n",
              "      <td>742366</td>\n",
              "      <td>No</td>\n",
              "    </tr>\n",
              "    <tr>\n",
              "      <th>CCMEWNKY</th>\n",
              "      <td>Male</td>\n",
              "      <td>43</td>\n",
              "      <td>RG268</td>\n",
              "      <td>Other</td>\n",
              "      <td>X2</td>\n",
              "      <td>49</td>\n",
              "      <td>NaN</td>\n",
              "      <td>925537</td>\n",
              "      <td>No</td>\n",
              "    </tr>\n",
              "    <tr>\n",
              "      <th>VK3KGA9M</th>\n",
              "      <td>Male</td>\n",
              "      <td>31</td>\n",
              "      <td>RG270</td>\n",
              "      <td>Salaried</td>\n",
              "      <td>X1</td>\n",
              "      <td>14</td>\n",
              "      <td>No</td>\n",
              "      <td>215949</td>\n",
              "      <td>No</td>\n",
              "    </tr>\n",
              "    <tr>\n",
              "      <th>TT8RPZVC</th>\n",
              "      <td>Male</td>\n",
              "      <td>29</td>\n",
              "      <td>RG272</td>\n",
              "      <td>Other</td>\n",
              "      <td>X1</td>\n",
              "      <td>33</td>\n",
              "      <td>No</td>\n",
              "      <td>868070</td>\n",
              "      <td>No</td>\n",
              "    </tr>\n",
              "    <tr>\n",
              "      <th>SHQZEYTZ</th>\n",
              "      <td>Female</td>\n",
              "      <td>29</td>\n",
              "      <td>RG270</td>\n",
              "      <td>Other</td>\n",
              "      <td>X1</td>\n",
              "      <td>19</td>\n",
              "      <td>No</td>\n",
              "      <td>657087</td>\n",
              "      <td>No</td>\n",
              "    </tr>\n",
              "  </tbody>\n",
              "</table>\n",
              "</div>"
            ],
            "text/plain": [
              "          Gender  Age Region_Code  ... Credit_Product Avg_Account_Balance  Is_Active\n",
              "ID                                 ...                                              \n",
              "VBENBARO    Male   29       RG254  ...            Yes              742366         No\n",
              "CCMEWNKY    Male   43       RG268  ...            NaN              925537         No\n",
              "VK3KGA9M    Male   31       RG270  ...             No              215949         No\n",
              "TT8RPZVC    Male   29       RG272  ...             No              868070         No\n",
              "SHQZEYTZ  Female   29       RG270  ...             No              657087         No\n",
              "\n",
              "[5 rows x 9 columns]"
            ]
          },
          "metadata": {
            "tags": []
          },
          "execution_count": 107
        }
      ]
    },
    {
      "cell_type": "code",
      "metadata": {
        "id": "00qhfQbFf8oZ",
        "colab": {
          "base_uri": "https://localhost:8080/"
        },
        "outputId": "e9ae32a0-fab9-4be3-bcbf-89d8b5543c3c"
      },
      "source": [
        "for col in test_data.columns:\n",
        "    if sum(test_data[col].isnull())>0:\n",
        "        print(col,\"has missing values\")"
      ],
      "execution_count": 108,
      "outputs": [
        {
          "output_type": "stream",
          "text": [
            "Credit_Product has missing values\n"
          ],
          "name": "stdout"
        }
      ]
    },
    {
      "cell_type": "code",
      "metadata": {
        "id": "URa2iSOyf8oa"
      },
      "source": [
        "test_data['Avg_Account_Balance'],lamda=stats.boxcox(test_data['Avg_Account_Balance'])"
      ],
      "execution_count": 109,
      "outputs": []
    },
    {
      "cell_type": "code",
      "metadata": {
        "id": "kDnAcAktf8oa"
      },
      "source": [
        "test_data['Credit_Product'].fillna('Yes',inplace=True)"
      ],
      "execution_count": 110,
      "outputs": []
    },
    {
      "cell_type": "code",
      "metadata": {
        "id": "3RNa2iOH0F_Q"
      },
      "source": [
        "for col in categ_cols:\n",
        "  test_data[col]=label.fit_transform(test_data[col])"
      ],
      "execution_count": 111,
      "outputs": []
    },
    {
      "cell_type": "code",
      "metadata": {
        "id": "nWvJG1Ggf8ob"
      },
      "source": [
        "xg_pred=XG.predict_proba(test_data.iloc[:,[False,  True, True,  True,  True,  True,  True,  True,  True]])[:,1]\n",
        "lgbm_predict=LGBM.predict_proba(test_data.iloc[:,[False,  True, True,  True,  True,  True,  True,  True,  True]])[:,1]\n",
        "cat_predict=CAT.predict_proba(test_data.iloc[:,[False,  True, True,  True,  True,  True,  True,  True,  True]])[:,1]\n",
        "test_data[\"Is_Lead\"]=(xg_pred+lgbm_predict+cat_predict)/3"
      ],
      "execution_count": 115,
      "outputs": []
    },
    {
      "cell_type": "code",
      "metadata": {
        "id": "mVbdi3y4umcz",
        "colab": {
          "base_uri": "https://localhost:8080/"
        },
        "outputId": "c77ef199-bc95-4def-a110-583035589ad5"
      },
      "source": [
        "test_data[\"Is_Lead\"]"
      ],
      "execution_count": 116,
      "outputs": [
        {
          "output_type": "execute_result",
          "data": {
            "text/plain": [
              "ID\n",
              "VBENBARO    0.068734\n",
              "CCMEWNKY    0.367420\n",
              "VK3KGA9M    0.054325\n",
              "TT8RPZVC    0.023763\n",
              "SHQZEYTZ    0.030828\n",
              "              ...   \n",
              "DBENJOYI    0.961994\n",
              "CWQ72DWS    0.691109\n",
              "HDESC8GU    0.097443\n",
              "2PW4SFCA    0.234090\n",
              "F2NOYPPZ    0.055151\n",
              "Name: Is_Lead, Length: 105312, dtype: float64"
            ]
          },
          "metadata": {
            "tags": []
          },
          "execution_count": 116
        }
      ]
    },
    {
      "cell_type": "code",
      "metadata": {
        "id": "dz-N_-aNf8ob"
      },
      "source": [
        "Predicted=pd.DataFrame(test_data['Is_Lead'])"
      ],
      "execution_count": 119,
      "outputs": []
    },
    {
      "cell_type": "markdown",
      "metadata": {
        "id": "xmkV8rb4Rk8x"
      },
      "source": [
        "**Conveting to csv file**  \n",
        "Final Submission Prditions"
      ]
    },
    {
      "cell_type": "code",
      "metadata": {
        "id": "QHwobo6ff8oc"
      },
      "source": [
        "Predicted.to_csv('XG+lgbm+cat_predict.csv')"
      ],
      "execution_count": 118,
      "outputs": []
    }
  ]
}